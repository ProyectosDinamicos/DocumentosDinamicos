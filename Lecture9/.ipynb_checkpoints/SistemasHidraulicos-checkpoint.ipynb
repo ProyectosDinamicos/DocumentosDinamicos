{
 "cells": [
  {
   "cell_type": "markdown",
   "metadata": {},
   "source": [
    "# Sistemas Dinámicos - Modelos de Sistemas Hidráulicos\n",
    "\n",
    "> Gerardo de J. Becerra B.  \n",
    "> Facultad de Ingeniería, Pontificia Universidad Javeriana.  \n",
    "> Bogotá, Colombia."
   ]
  },
  {
   "cell_type": "markdown",
   "metadata": {},
   "source": [
    "## 1. Introducción\n",
    "Un sistema hidráulico se caracteriza por el flujo de liquidos, los cuales en general pueden considerarse incompresibles. Dichos sistemas aparecen comúnmente en procesos quimicos, equipos de manufactura y equipos de construcción/agricultura. Usualmente se interconectan usando bombas, válvulas, y pistones.\n",
    "\n",
    "Comparado con otras tecnologías existentes (mecánica, eléctrica, neumática) para generar fuerzas y movimiento, algunas de las **ventajas** de los sistemas hidráulicos son:\n",
    "- Transmisión de grandes fuerzas usando componentes pequeños.\n",
    "- Precisión en el posicionamiento.\n",
    "- Arranque bajo alta carga.\n",
    "- Movimiento contínuo independiente de la carga (debido a la incompresibilidad del líquido).\n",
    "- Buen control y regulación.\n",
    "- Disipación de calor favorable.\n",
    "\n",
    "Algunas de las **desventajas** de los sistemas hidráulicos frente a otras tecnologías:\n",
    "- Contaminación ambiental por residuos de aceite.\n",
    "- Susceptible al polvo.\n",
    "- Peligros resultantes de presiones excesivas.\n",
    "- Dependiencia de la temperatura (cambio de la viscosidad).\n",
    "\n",
    "Un análisis exacto de sistemas hidráulicos require considerar su naturaleza distrubuída y las propiedades no lineales del flujo. En nuestro caso únicamente consideraremos elementos concentrados y utilizaremos linealización para simplificar el análisis."
   ]
  },
  {
   "cell_type": "markdown",
   "metadata": {
    "collapsed": true
   },
   "source": [
    "## 2. Variables\n",
    "Las variables usadas para describir el comportamiento dinámico de los sistemas hidráulicos son:\n",
    "\n",
    "| Símbolo   | Variable          | Unidades |\n",
    "|:---------:|:-----------------:|:--------:|\n",
    "| *w*       | Flujo volumétrico | m^3/s    |\n",
    "| *v*       | Volumen           | m^3      |\n",
    "| *h*       | Altura líquido    | m        |\n",
    "| *p*       | Presión           | N/m^2    |\n",
    "\n",
    "La presión puede expresarse de diferentes formas:\n",
    "![title](img/pressure1.png)\n",
    "La relación entre las diferentes presiones se puede escribir como"
   ]
  },
  {
   "cell_type": "code",
   "execution_count": 1,
   "metadata": {},
   "outputs": [
    {
     "data": {
      "text/latex": [
       "\\begin{equation}\n",
       "p^*(t) = p(t) - p_a\n",
       "\\end{equation}"
      ],
      "text/plain": [
       "<IPython.core.display.Latex object>"
      ]
     },
     "metadata": {},
     "output_type": "display_data"
    }
   ],
   "source": [
    "%%latex\n",
    "\\begin{equation}\n",
    "p^*(t) = p(t) - p_a\n",
    "\\end{equation}"
   ]
  },
  {
   "cell_type": "markdown",
   "metadata": {},
   "source": [
    "donde $p^*(t)$ representa la presión manométrica, $p(t)$ la presión absoluta y $p_a$ la presión atmosférica. Una diferencia de presión, denotada por $\\Delta p$, corresponde a la diferencia de presión entre dos puntos."
   ]
  },
  {
   "cell_type": "markdown",
   "metadata": {},
   "source": [
    "## 3. Leyes de los elementos\n",
    "Los sistemas hidráulicos poseen tres características que pueden aproximarse por elementos concentrados:\n",
    "- Capacitancia (almacenamiento)\n",
    "- Resistencia (oposición al flujo)\n",
    "- Inertancia (energía cinética del fluido / despreciable respecto a las otras / no la consideraremos aquí.)"
   ]
  },
  {
   "cell_type": "markdown",
   "metadata": {},
   "source": [
    "### 3.1 Capacitancia Hidráulica\n",
    "Cuando se almacena fluido en un contenedor abierto, existe una relación algebráica entre el volumen del líquido y la presión en la base del contenedor. Asumiendo $A(h)$ como el area transversal del tanque, $h$ la altura del líquido, el volumen de líquido se puede escribir como"
   ]
  },
  {
   "cell_type": "code",
   "execution_count": 2,
   "metadata": {},
   "outputs": [
    {
     "data": {
      "text/latex": [
       "\\begin{equation}\n",
       "    v = \\int_0^h A(\\lambda) d\\lambda\n",
       "\\end{equation}"
      ],
      "text/plain": [
       "<IPython.core.display.Latex object>"
      ]
     },
     "metadata": {},
     "output_type": "display_data"
    }
   ],
   "source": [
    "%%latex\n",
    "\\begin{equation}\n",
    "    v = \\int_0^h A(\\lambda) d\\lambda\n",
    "\\end{equation}"
   ]
  },
  {
   "cell_type": "markdown",
   "metadata": {},
   "source": [
    "La presión absoluta $p$ y la altura $h$ se encuentran relacionadas como:"
   ]
  },
  {
   "cell_type": "code",
   "execution_count": 3,
   "metadata": {},
   "outputs": [
    {
     "data": {
      "text/latex": [
       "\\begin{equation}\n",
       "    p = \\rho g h + p_a\n",
       "\\end{equation}"
      ],
      "text/plain": [
       "<IPython.core.display.Latex object>"
      ]
     },
     "metadata": {},
     "output_type": "display_data"
    }
   ],
   "source": [
    "%%latex\n",
    "\\begin{equation}\n",
    "    p = \\rho g h + p_a\n",
    "\\end{equation}"
   ]
  },
  {
   "cell_type": "markdown",
   "metadata": {},
   "source": [
    "donde $\\rho$ es la densidad del fluido y $g$ la constante gravitacional. Éstas dos ecuaciones implican que existe una única relación algebráica entre la presión $p$ y el volumen $v$. Al graficar la relación *presión / volumen* para un tanque de sección transversal constante se obtiene:"
   ]
  },
  {
   "cell_type": "markdown",
   "metadata": {},
   "source": [
    "![title](img/capacitance_lin.png)"
   ]
  },
  {
   "cell_type": "markdown",
   "metadata": {},
   "source": [
    "y para un tanque de sección transversal variable se obtiene:"
   ]
  },
  {
   "cell_type": "markdown",
   "metadata": {},
   "source": [
    "![title](img/capacitance.png)"
   ]
  },
  {
   "cell_type": "markdown",
   "metadata": {},
   "source": [
    "Al inverso de la pendiente de la recta tangente en algún punto de la curva se define como **capacitancia hidráulica**, y se denota como $C(h)$:"
   ]
  },
  {
   "cell_type": "code",
   "execution_count": 4,
   "metadata": {},
   "outputs": [
    {
     "data": {
      "text/latex": [
       "\\begin{equation}\n",
       "    C(h) = \\frac{1}{dp/dv} = \\frac{dv}{dp}\n",
       "\\end{equation}"
      ],
      "text/plain": [
       "<IPython.core.display.Latex object>"
      ]
     },
     "metadata": {},
     "output_type": "display_data"
    }
   ],
   "source": [
    "%%latex\n",
    "\\begin{equation}\n",
    "    C(h) = \\frac{1}{dp/dv} = \\frac{dv}{dp}\n",
    "\\end{equation}"
   ]
  },
  {
   "cell_type": "markdown",
   "metadata": {},
   "source": [
    "De la regla de la cadena de la derivada:"
   ]
  },
  {
   "cell_type": "code",
   "execution_count": 5,
   "metadata": {},
   "outputs": [
    {
     "data": {
      "text/latex": [
       "\\begin{equation}\n",
       "    C(h) = \\frac{dv}{dh} \\frac{dh}{dp}\n",
       "\\end{equation}"
      ],
      "text/plain": [
       "<IPython.core.display.Latex object>"
      ]
     },
     "metadata": {},
     "output_type": "display_data"
    }
   ],
   "source": [
    "%%latex\n",
    "\\begin{equation}\n",
    "    C(h) = \\frac{dv}{dh} \\frac{dh}{dp}\n",
    "\\end{equation}"
   ]
  },
  {
   "cell_type": "markdown",
   "metadata": {},
   "source": [
    "De la segunda ecuación se sabe que $dv/dh = A(h)$ y de la tercera que $dh/dp = 1/\\rho g$. Por lo tanto, para un tanque de forma arbitraria:"
   ]
  },
  {
   "cell_type": "code",
   "execution_count": 6,
   "metadata": {},
   "outputs": [
    {
     "data": {
      "text/latex": [
       "\\begin{equation}\n",
       "    C(h) = \\frac{A(h)}{\\rho g}\n",
       "\\end{equation}"
      ],
      "text/plain": [
       "<IPython.core.display.Latex object>"
      ]
     },
     "metadata": {},
     "output_type": "display_data"
    }
   ],
   "source": [
    "%%latex\n",
    "\\begin{equation}\n",
    "    C(h) = \\frac{A(h)}{\\rho g}\n",
    "\\end{equation}"
   ]
  },
  {
   "cell_type": "markdown",
   "metadata": {},
   "source": [
    "Para un tanque de sección constante $A$, la segunda ecuación se reduce a $v = Ah$. Reemplazando en la tercera ecuación se tiene la presión en términos del volumen:"
   ]
  },
  {
   "cell_type": "code",
   "execution_count": 7,
   "metadata": {},
   "outputs": [
    {
     "data": {
      "text/latex": [
       "\\begin{equation}\n",
       "    p = \\frac{\\rho g}{A}v + p_a\n",
       "\\end{equation}"
      ],
      "text/plain": [
       "<IPython.core.display.Latex object>"
      ]
     },
     "metadata": {},
     "output_type": "display_data"
    }
   ],
   "source": [
    "%%latex\n",
    "\\begin{equation}\n",
    "    p = \\frac{\\rho g}{A}v + p_a\n",
    "\\end{equation}"
   ]
  },
  {
   "cell_type": "markdown",
   "metadata": {},
   "source": [
    "que corresponde a la relación lineal mostrada en la segunda gráfica. El volumen de líquido en un tanque en cualquier instante de tiempo corresponde a la integral del flujo neto más el volumen inicial:"
   ]
  },
  {
   "cell_type": "code",
   "execution_count": 8,
   "metadata": {},
   "outputs": [
    {
     "data": {
      "text/latex": [
       "\\begin{equation}\n",
       "    v(t) = v(0) + \\int_0^t [w_{in}(\\tau) - w_{out}(\\tau)] d\\tau\n",
       "\\end{equation}"
      ],
      "text/plain": [
       "<IPython.core.display.Latex object>"
      ]
     },
     "metadata": {},
     "output_type": "display_data"
    }
   ],
   "source": [
    "%%latex\n",
    "\\begin{equation}\n",
    "    v(t) = v(0) + \\int_0^t [w_{in}(\\tau) - w_{out}(\\tau)] d\\tau\n",
    "\\end{equation}"
   ]
  },
  {
   "cell_type": "markdown",
   "metadata": {},
   "source": [
    "Derivando ésta ecuación se puede obtener la forma alternativa:"
   ]
  },
  {
   "cell_type": "code",
   "execution_count": 9,
   "metadata": {},
   "outputs": [
    {
     "data": {
      "text/latex": [
       "\\begin{equation}\n",
       "    \\dot{v} = w_{in}(t) - w_{out}(t)\n",
       "\\end{equation}"
      ],
      "text/plain": [
       "<IPython.core.display.Latex object>"
      ]
     },
     "metadata": {},
     "output_type": "display_data"
    }
   ],
   "source": [
    "%%latex\n",
    "\\begin{equation}\n",
    "    \\dot{v} = w_{in}(t) - w_{out}(t)\n",
    "\\end{equation}"
   ]
  },
  {
   "cell_type": "markdown",
   "metadata": {},
   "source": [
    "Usando la regla de la cadena podemos escribir"
   ]
  },
  {
   "cell_type": "code",
   "execution_count": 10,
   "metadata": {},
   "outputs": [
    {
     "data": {
      "text/latex": [
       "\\begin{equation}\n",
       "    \\frac{dv}{dt} = \\frac{dv}{dh} \\frac{dh}{dt}\n",
       "\\end{equation}"
      ],
      "text/plain": [
       "<IPython.core.display.Latex object>"
      ]
     },
     "metadata": {},
     "output_type": "display_data"
    }
   ],
   "source": [
    "%%latex\n",
    "\\begin{equation}\n",
    "    \\frac{dv}{dt} = \\frac{dv}{dh} \\frac{dh}{dt}\n",
    "\\end{equation}"
   ]
  },
  {
   "cell_type": "markdown",
   "metadata": {},
   "source": [
    "Reemplazando $dv/dh = A(h)$ en ésta última ecuación obtenemos"
   ]
  },
  {
   "cell_type": "code",
   "execution_count": 11,
   "metadata": {},
   "outputs": [
    {
     "data": {
      "text/latex": [
       "\\begin{equation}\n",
       "    \\dot{h} = \\frac{1}{A(h)} [w_{in}(t) - w_{out}(t)]\n",
       "\\end{equation}"
      ],
      "text/plain": [
       "<IPython.core.display.Latex object>"
      ]
     },
     "metadata": {},
     "output_type": "display_data"
    }
   ],
   "source": [
    "%%latex\n",
    "\\begin{equation}\n",
    "    \\dot{h} = \\frac{1}{A(h)} [w_{in}(t) - w_{out}(t)]\n",
    "\\end{equation}"
   ]
  },
  {
   "cell_type": "markdown",
   "metadata": {},
   "source": [
    "De forma alternativa, se puede escribir $dv/dt$ como"
   ]
  },
  {
   "cell_type": "code",
   "execution_count": 12,
   "metadata": {},
   "outputs": [
    {
     "data": {
      "text/latex": [
       "\\begin{equation}\n",
       "    \\frac{dv}{dt} = \\frac{dv}{dp} \\frac{dp}{dt}\n",
       "\\end{equation}"
      ],
      "text/plain": [
       "<IPython.core.display.Latex object>"
      ]
     },
     "metadata": {},
     "output_type": "display_data"
    }
   ],
   "source": [
    "%%latex\n",
    "\\begin{equation}\n",
    "    \\frac{dv}{dt} = \\frac{dv}{dp} \\frac{dp}{dt}\n",
    "\\end{equation}"
   ]
  },
  {
   "cell_type": "markdown",
   "metadata": {},
   "source": [
    "donde $dv/dp = C(h)$. Por lo tanto se obtiene"
   ]
  },
  {
   "cell_type": "code",
   "execution_count": 13,
   "metadata": {},
   "outputs": [
    {
     "data": {
      "text/latex": [
       "\\begin{equation}\n",
       "    \\dot{p} = \\frac{1}{C(h)} [w_{in}(t) - w_{out}(t)] \n",
       "\\end{equation}"
      ],
      "text/plain": [
       "<IPython.core.display.Latex object>"
      ]
     },
     "metadata": {},
     "output_type": "display_data"
    }
   ],
   "source": [
    "%%latex\n",
    "\\begin{equation}\n",
    "    \\dot{p} = \\frac{1}{C(h)} [w_{in}(t) - w_{out}(t)] \n",
    "\\end{equation}"
   ]
  },
  {
   "cell_type": "markdown",
   "metadata": {},
   "source": [
    "Cualquiera de las variables $v$, $h$ o $p$ puede utilizarse para representar la cantidad de líquido en un tanque, por lo que cualquiera de éstas puede utilizarse como variable de estado. Si el área transversal $A(h)$ es variable, el modelo del sistema será no lineal."
   ]
  },
  {
   "cell_type": "markdown",
   "metadata": {},
   "source": [
    "### Ejemplo 1:\n",
    "Considere un tanque formado por un cilindro de radio $R$ y longitud $L$ que contiene liquido de densidad $\\rho$. Encuentre la capacitancia hidráulica cuando el tanque está ubicado de manera vertical, y cuando está ubicado sobre el lado."
   ]
  },
  {
   "cell_type": "markdown",
   "metadata": {},
   "source": [
    "![title](img/cilinder_tank.png)"
   ]
  },
  {
   "cell_type": "markdown",
   "metadata": {},
   "source": [
    "### Solución:\n",
    "Para la primera configuración (vertical) el área transversal es constante: $A_1 =\\pi R^2$. Por lo tanto, la capacitancia hidráulica será $C_1 = \\pi R^2 / \\rho g$.\n",
    "Para la segunda configuración (horizontal) el área transversal depende de la altura $h$. Dicha área corresponde a $A_s(h) = 2 \\sqrt{R^2 - (R-h)^2}$. Por lo tanto la capacitancia hidráulica será $C_2(h) = \\frac{2L}{\\rho g}\\sqrt{R^2 - (R-h)^2}$."
   ]
  },
  {
   "cell_type": "markdown",
   "metadata": {},
   "source": [
    "### 3.2 Resistencia Hidráulica\n",
    "Dado que el líquido fluye a través de tuberías, existe una caída de presión a lo largo de éstas. También se presentan caídas de presión cuando fluye a través de una válvula o de un orificio. Dicho cambio de presión produce disipación de energía. La siguiente figura representa un esquema de una válvula:"
   ]
  },
  {
   "cell_type": "markdown",
   "metadata": {},
   "source": [
    "![title](img/valve.png)"
   ]
  },
  {
   "cell_type": "markdown",
   "metadata": {},
   "source": [
    "donde la flecha indica la dirección del flujo y los símbolos $+$ y $-$ indican la caída de presión. La relación algebráica entre el flujo volumétrico $w$ y la diferencia de presión $\\Delta p$ se puede escribir como"
   ]
  },
  {
   "cell_type": "code",
   "execution_count": 14,
   "metadata": {},
   "outputs": [
    {
     "data": {
      "text/latex": [
       "\\begin{equation}\n",
       "    w = k \\sqrt{\\Delta p}\n",
       "\\end{equation}"
      ],
      "text/plain": [
       "<IPython.core.display.Latex object>"
      ]
     },
     "metadata": {},
     "output_type": "display_data"
    }
   ],
   "source": [
    "%%latex\n",
    "\\begin{equation}\n",
    "    w = k \\sqrt{\\Delta p}\n",
    "\\end{equation}"
   ]
  },
  {
   "cell_type": "markdown",
   "metadata": {},
   "source": [
    "donde la constante $k$ depende de las características de la tubería, válvula u orificio. La siguiente figura presenta la forma típica de la relación entre flujo volumétrico y diferencia de presión."
   ]
  },
  {
   "cell_type": "markdown",
   "metadata": {},
   "source": [
    "![title](img/valve_curve.png)"
   ]
  },
  {
   "cell_type": "markdown",
   "metadata": {},
   "source": [
    "Como ésta es una relación no lineal, es posible realizar una linealizacion alrededor de un punto de operación, como se muestra en la siguiente figura."
   ]
  },
  {
   "cell_type": "markdown",
   "metadata": {},
   "source": [
    "![title](img/valve_curve_linapprox.png)"
   ]
  },
  {
   "cell_type": "markdown",
   "metadata": {},
   "source": [
    "El inverso de la pendiente de la aproximación lineal se define como la resistencia hidráulica $R$. En éste caso tenemos"
   ]
  },
  {
   "cell_type": "code",
   "execution_count": 15,
   "metadata": {},
   "outputs": [
    {
     "data": {
      "text/latex": [
       "\\begin{align}\n",
       "    \\frac{1}{R} = \\left.\\frac{dw}{d \\Delta p}\\right|_\\bar{\\Delta p} &= \\left.\\frac{d}{d \\Delta p} (k \\Delta p^{1/2)}) \\right|_\\bar{\\Delta p} = \\frac{k}{2\\sqrt{\\bar{\\Delta p}}}\\\\\n",
       "    R &= \\frac{2\\sqrt{\\bar{\\Delta p}}}{k}\n",
       "\\end{align}"
      ],
      "text/plain": [
       "<IPython.core.display.Latex object>"
      ]
     },
     "metadata": {},
     "output_type": "display_data"
    }
   ],
   "source": [
    "%%latex\n",
    "\\begin{align}\n",
    "    \\frac{1}{R} = \\left.\\frac{dw}{d \\Delta p}\\right|_\\bar{\\Delta p} &= \\left.\\frac{d}{d \\Delta p} (k \\Delta p^{1/2)}) \\right|_\\bar{\\Delta p} = \\frac{k}{2\\sqrt{\\bar{\\Delta p}}}\\\\\n",
    "    R &= \\frac{2\\sqrt{\\bar{\\Delta p}}}{k}\n",
    "\\end{align}"
   ]
  },
  {
   "cell_type": "markdown",
   "metadata": {},
   "source": [
    "Substituyendo $\\bar{w} = k \\sqrt{\\bar{\\Delta p}}$ se obtiene una expresión alternativa para la resistencia:"
   ]
  },
  {
   "cell_type": "code",
   "execution_count": 16,
   "metadata": {},
   "outputs": [
    {
     "data": {
      "text/latex": [
       "\\begin{equation}\n",
       "    R = \\frac{2 \\bar{w}}{k^2}\n",
       "\\end{equation}"
      ],
      "text/plain": [
       "<IPython.core.display.Latex object>"
      ]
     },
     "metadata": {},
     "output_type": "display_data"
    }
   ],
   "source": [
    "%%latex\n",
    "\\begin{equation}\n",
    "    R = \\frac{2 \\bar{w}}{k^2}\n",
    "\\end{equation}"
   ]
  },
  {
   "cell_type": "markdown",
   "metadata": {},
   "source": [
    "### Ejemplo 2:\n",
    "Encuentre el equivalente serie de dos válvulas conectadas en serie."
   ]
  },
  {
   "cell_type": "markdown",
   "metadata": {},
   "source": [
    "![title](img/valve_series.png)"
   ]
  },
  {
   "cell_type": "markdown",
   "metadata": {},
   "source": [
    "### Solución:\n",
    "Como están conectadas en serie, ambas válvulas tienen el mismo flujo $w$. La caída total de presión es"
   ]
  },
  {
   "cell_type": "code",
   "execution_count": 17,
   "metadata": {},
   "outputs": [
    {
     "data": {
      "text/latex": [
       "\\begin{equation}\n",
       "    \\Delta p = \\Delta p_a + \\Delta p_b = \\left(\\frac{1}{k_a^2} + \\frac{1}{k_b^2} \\right) w^2\n",
       "\\end{equation}"
      ],
      "text/plain": [
       "<IPython.core.display.Latex object>"
      ]
     },
     "metadata": {},
     "output_type": "display_data"
    }
   ],
   "source": [
    "%%latex\n",
    "\\begin{equation}\n",
    "    \\Delta p = \\Delta p_a + \\Delta p_b = \\left(\\frac{1}{k_a^2} + \\frac{1}{k_b^2} \\right) w^2\n",
    "\\end{equation}"
   ]
  },
  {
   "cell_type": "markdown",
   "metadata": {},
   "source": [
    "Reorganizando los términos se obtiene:"
   ]
  },
  {
   "cell_type": "code",
   "execution_count": 18,
   "metadata": {},
   "outputs": [
    {
     "data": {
      "text/latex": [
       "\\begin{equation}\n",
       "    w = \\left(\\frac{k_a k_b}{\\sqrt{k_a^2 + k_b^2}} \\right) \\sqrt{\\Delta p} = k_c \\sqrt{\\Delta p}\n",
       "\\end{equation}"
      ],
      "text/plain": [
       "<IPython.core.display.Latex object>"
      ]
     },
     "metadata": {},
     "output_type": "display_data"
    }
   ],
   "source": [
    "%%latex\n",
    "\\begin{equation}\n",
    "    w = \\left(\\frac{k_a k_b}{\\sqrt{k_a^2 + k_b^2}} \\right) \\sqrt{\\Delta p} = k_c \\sqrt{\\Delta p}\n",
    "\\end{equation}"
   ]
  },
  {
   "cell_type": "markdown",
   "metadata": {},
   "source": [
    "Ahora, para encontrar el equivalente lineal alrededor de un punto de operacion se tiene:"
   ]
  },
  {
   "cell_type": "code",
   "execution_count": 19,
   "metadata": {},
   "outputs": [
    {
     "data": {
      "text/latex": [
       "\\begin{equation}\n",
       "    R_c = \\frac{2\\bar{w}}{k_c^2} = 2\\bar{w} \\left(\\frac{1}{k_a^2} + \\frac{1}{k_b^2} \\right) = R_a + R_b\n",
       "\\end{equation}"
      ],
      "text/plain": [
       "<IPython.core.display.Latex object>"
      ]
     },
     "metadata": {},
     "output_type": "display_data"
    }
   ],
   "source": [
    "%%latex\n",
    "\\begin{equation}\n",
    "    R_c = \\frac{2\\bar{w}}{k_c^2} = 2\\bar{w} \\left(\\frac{1}{k_a^2} + \\frac{1}{k_b^2} \\right) = R_a + R_b\n",
    "\\end{equation}"
   ]
  },
  {
   "cell_type": "markdown",
   "metadata": {},
   "source": [
    "Por lo tanto, se observa que el equivalente serie de dos resistencias hidráulicas corresponde a la suma de éstas."
   ]
  },
  {
   "cell_type": "markdown",
   "metadata": {},
   "source": [
    "### 3.3 Fuentes hidráulicas\n",
    "En la mayoría de sistemas hidráulicos, la fuente de energía es una bomba que obtiene su energía de un motor eléctrico. A continuación consideraremos una bomba centrífuga controlada a velocidad constante. Su representación gráfica se muestra en la siguiente figura:"
   ]
  },
  {
   "cell_type": "markdown",
   "metadata": {},
   "source": [
    "![title](img/pump.png)"
   ]
  },
  {
   "cell_type": "markdown",
   "metadata": {},
   "source": [
    "Las curvas típicas *flujo / caída de presión* en una válvula se muestran en la siguiente figura, para tres velocidades diferentes:"
   ]
  },
  {
   "cell_type": "markdown",
   "metadata": {},
   "source": [
    "![title](img/pump_curves.png)"
   ]
  },
  {
   "cell_type": "markdown",
   "metadata": {},
   "source": [
    "Dichas curvas se obtienen de manera experimental para condiciones estacionarias. Como puede observarse, dichas relaciones también son no lineales. En éste caso también es posible encontrar una aproximación lineal dado un punto de operación, como se muestra en la siguiente figura:"
   ]
  },
  {
   "cell_type": "markdown",
   "metadata": {},
   "source": [
    "![title](img/pump_linapprox.png)"
   ]
  },
  {
   "cell_type": "markdown",
   "metadata": {},
   "source": [
    "La expansión en serie de Taylor del flujo $w$ en función de la diferencia de presión es:"
   ]
  },
  {
   "cell_type": "code",
   "execution_count": 20,
   "metadata": {},
   "outputs": [
    {
     "data": {
      "text/latex": [
       "\\begin{equation}\n",
       "    w = \\bar{w} + \\left.\\frac{dw}{d \\Delta p}\\right|_{\\bar{\\Delta p}} (\\Delta p - \\bar{\\Delta p}) + \\dots\n",
       "\\end{equation}"
      ],
      "text/plain": [
       "<IPython.core.display.Latex object>"
      ]
     },
     "metadata": {},
     "output_type": "display_data"
    }
   ],
   "source": [
    "%%latex\n",
    "\\begin{equation}\n",
    "    w = \\bar{w} + \\left.\\frac{dw}{d \\Delta p}\\right|_{\\bar{\\Delta p}} (\\Delta p - \\bar{\\Delta p}) + \\dots\n",
    "\\end{equation}"
   ]
  },
  {
   "cell_type": "markdown",
   "metadata": {},
   "source": [
    "Tomando los dos primeros términos de la serie se obtiene la aproximación lineal, donde la relación para las variables incrementales es:"
   ]
  },
  {
   "cell_type": "code",
   "execution_count": 21,
   "metadata": {},
   "outputs": [
    {
     "data": {
      "text/latex": [
       "\\begin{equation}\n",
       "    \\hat{w} = -\\frac{1}{K} \\hat{\\Delta p}\n",
       "\\end{equation}"
      ],
      "text/plain": [
       "<IPython.core.display.Latex object>"
      ]
     },
     "metadata": {},
     "output_type": "display_data"
    }
   ],
   "source": [
    "%%latex\n",
    "\\begin{equation}\n",
    "    \\hat{w} = -\\frac{1}{K} \\hat{\\Delta p}\n",
    "\\end{equation}"
   ]
  },
  {
   "cell_type": "markdown",
   "metadata": {},
   "source": [
    "## 4. Modelos Dinámicos de Sistemas Hidráulicos\n",
    "En ésta sección se desarrollarán los modelos de sistemas a partir de las leyes de los elementos que los componen, y de las leyes de interconexión."
   ]
  },
  {
   "cell_type": "markdown",
   "metadata": {},
   "source": [
    "### Ejemplo 3:\n",
    "Para el sistema hidráulico mostrado en la figura:\n",
    "![title](img/tank_valve.png)\n",
    "- Formule el modelo matemático.\n",
    "- Obtenga el punto de operación.\n",
    "- Obtenga el modelo linealizado alrededor del punto de operación, para una entrada $\\bar{w}_i$.\n",
    "- Simule la respuesta del sistema ante una entrada paso de amplitud $\\bar{w}_i = 5 \\times 10^{-3}$, asumiendo como condición inicial que el tanque está vacio. Los valores de los parámetros son $A=2$, $\\rho=1000$, $k = 5 \\times 10^{-5}$, $p_a = 1.013 \\times 10^{5}$, $g = 9.807$."
   ]
  },
  {
   "cell_type": "markdown",
   "metadata": {},
   "source": [
    "### Solución:\n",
    "- Tomando la presión $p_1$ como variable de estado, podemos escribir la ecuación dinámica para el tanque como:"
   ]
  },
  {
   "cell_type": "code",
   "execution_count": 22,
   "metadata": {},
   "outputs": [
    {
     "data": {
      "text/latex": [
       "\\begin{equation}\n",
       "    \\dot{p}_1(t) = \\frac{1}{C} [w_{in}(t) - w_{out}(t)]\n",
       "\\end{equation}"
      ],
      "text/plain": [
       "<IPython.core.display.Latex object>"
      ]
     },
     "metadata": {},
     "output_type": "display_data"
    }
   ],
   "source": [
    "%%latex\n",
    "\\begin{equation}\n",
    "    \\dot{p}_1(t) = \\frac{1}{C} [w_{in}(t) - w_{out}(t)]\n",
    "\\end{equation}"
   ]
  },
  {
   "cell_type": "markdown",
   "metadata": {},
   "source": [
    "donde $w_{in}(t) = w_i(t)$ and $w_{out}(t) = k \\sqrt{p_1(t) - p_a}$. Sustituyendo se obtiene:"
   ]
  },
  {
   "cell_type": "code",
   "execution_count": 23,
   "metadata": {},
   "outputs": [
    {
     "data": {
      "text/latex": [
       "\\begin{equation}\n",
       "    \\dot{p}_1(t) = \\frac{\\rho g}{A} [w_i(t) - k \\sqrt{p_1(t) - p_a}]\n",
       "\\end{equation}"
      ],
      "text/plain": [
       "<IPython.core.display.Latex object>"
      ]
     },
     "metadata": {},
     "output_type": "display_data"
    }
   ],
   "source": [
    "%%latex\n",
    "\\begin{equation}\n",
    "    \\dot{p}_1(t) = \\frac{\\rho g}{A} [w_i(t) - k \\sqrt{p_1(t) - p_a}]\n",
    "\\end{equation}"
   ]
  },
  {
   "cell_type": "markdown",
   "metadata": {},
   "source": [
    "- Para encontrar el punto de operación se hace $\\dot{p}_1 = 0$, y se despeja $\\bar{p}_1$."
   ]
  },
  {
   "cell_type": "code",
   "execution_count": 24,
   "metadata": {},
   "outputs": [
    {
     "data": {
      "text/latex": [
       "\\begin{align}\n",
       "    0 &= \\frac{\\rho g}{A} [\\bar{w}_i - k \\sqrt{\\bar{p}_1 - p_a}]\\\\\n",
       "    \\bar{w}_i &= k \\sqrt{\\bar{p}_1 - p_a}\\\\\n",
       "    \\bar{p}_1 &= \\frac{\\bar{w}_i^2}{k^2} + p_a\n",
       "\\end{align}"
      ],
      "text/plain": [
       "<IPython.core.display.Latex object>"
      ]
     },
     "metadata": {},
     "output_type": "display_data"
    }
   ],
   "source": [
    "%%latex\n",
    "\\begin{align}\n",
    "    0 &= \\frac{\\rho g}{A} [\\bar{w}_i - k \\sqrt{\\bar{p}_1 - p_a}]\\\\\n",
    "    \\bar{w}_i &= k \\sqrt{\\bar{p}_1 - p_a}\\\\\n",
    "    \\bar{p}_1 &= \\frac{\\bar{w}_i^2}{k^2} + p_a\n",
    "\\end{align}"
   ]
  },
  {
   "cell_type": "markdown",
   "metadata": {},
   "source": [
    "- Para obtener el modelo linealizado, calculamos las derivadas parciales (jacobiano) para obtener los coeficientes del modelo incremental:"
   ]
  },
  {
   "cell_type": "code",
   "execution_count": 25,
   "metadata": {},
   "outputs": [
    {
     "data": {
      "text/latex": [
       "\\begin{align}\n",
       "    \\left.\\frac{\\partial f}{\\partial p_1}\\right|_{\\bar{w}_i,\\bar{p}_1} &= \\left.-\\frac{\\rho g k}{2A} (\\bar{p}_1-p_a)^{-1/2}\\right|_{\\bar{w}_i,\\bar{p}_1}\\\\\n",
       "    &= -\\frac{\\rho g k}{2A} \\left(\\frac{\\bar{w}_i^2}{k^2}+p_a-p_a\\right)^{-1/2}\\\\\n",
       "    &= -\\frac{\\rho g k^2}{2A \\bar{w}_i}\\\\\n",
       "    &= -\\frac{1}{RC}\n",
       "\\end{align}"
      ],
      "text/plain": [
       "<IPython.core.display.Latex object>"
      ]
     },
     "metadata": {},
     "output_type": "display_data"
    }
   ],
   "source": [
    "%%latex\n",
    "\\begin{align}\n",
    "    \\left.\\frac{\\partial f}{\\partial p_1}\\right|_{\\bar{w}_i,\\bar{p}_1} &= \\left.-\\frac{\\rho g k}{2A} (\\bar{p}_1-p_a)^{-1/2}\\right|_{\\bar{w}_i,\\bar{p}_1}\\\\\n",
    "    &= -\\frac{\\rho g k}{2A} \\left(\\frac{\\bar{w}_i^2}{k^2}+p_a-p_a\\right)^{-1/2}\\\\\n",
    "    &= -\\frac{\\rho g k^2}{2A \\bar{w}_i}\\\\\n",
    "    &= -\\frac{1}{RC}\n",
    "\\end{align}"
   ]
  },
  {
   "cell_type": "markdown",
   "metadata": {},
   "source": [
    "donde $R=2\\bar{w}_i/k^2$ y $C = A/\\rho g$. El siguiente coeficiente es:"
   ]
  },
  {
   "cell_type": "code",
   "execution_count": 26,
   "metadata": {},
   "outputs": [
    {
     "data": {
      "text/latex": [
       "\\begin{equation}\n",
       "    \\left.\\frac{\\partial f}{\\partial w_i}\\right|_{\\bar{w}_i,\\bar{p}_1} = \\frac{\\rho g}{A} = \\frac{1}{C}\n",
       "\\end{equation}"
      ],
      "text/plain": [
       "<IPython.core.display.Latex object>"
      ]
     },
     "metadata": {},
     "output_type": "display_data"
    }
   ],
   "source": [
    "%%latex\n",
    "\\begin{equation}\n",
    "    \\left.\\frac{\\partial f}{\\partial w_i}\\right|_{\\bar{w}_i,\\bar{p}_1} = \\frac{\\rho g}{A} = \\frac{1}{C}\n",
    "\\end{equation}"
   ]
  },
  {
   "cell_type": "markdown",
   "metadata": {},
   "source": [
    "Entonces, el modelo linealizado es:"
   ]
  },
  {
   "cell_type": "code",
   "execution_count": 27,
   "metadata": {},
   "outputs": [
    {
     "data": {
      "text/latex": [
       "\\begin{equation}\n",
       "    \\dot{\\hat{p}}_1 = -\\frac{1}{RC} \\hat{p}_1 + \\frac{1}{C} \\hat{w}_i\n",
       "\\end{equation}"
      ],
      "text/plain": [
       "<IPython.core.display.Latex object>"
      ]
     },
     "metadata": {},
     "output_type": "display_data"
    }
   ],
   "source": [
    "%%latex\n",
    "\\begin{equation}\n",
    "    \\dot{\\hat{p}}_1 = -\\frac{1}{RC} \\hat{p}_1 + \\frac{1}{C} \\hat{w}_i\n",
    "\\end{equation}"
   ]
  },
  {
   "cell_type": "markdown",
   "metadata": {},
   "source": [
    "- Para obtener la simulación del sistema escribiremos un script de Python, usando funciones de las librerías `numpy`, `matplotlib` y `scipy`. En primer lugar, importamos las librerías necesarias y configuramos el entorno."
   ]
  },
  {
   "cell_type": "code",
   "execution_count": 42,
   "metadata": {},
   "outputs": [],
   "source": [
    "import math\n",
    "import numpy as np\n",
    "%matplotlib inline\n",
    "import matplotlib.pyplot as plt\n",
    "import matplotlib\n",
    "matplotlib.rcParams['lines.linewidth'] = 3\n",
    "matplotlib.rcParams['font.size'] = 13\n",
    "matplotlib.rcParams['lines.markersize'] = 5\n",
    "matplotlib.rcParams['figure.figsize'] = (14, 9)\n",
    "matplotlib.rc('text', usetex=True)\n",
    "matplotlib.rc('axes', grid = False, labelsize=14, titlesize=16, ymargin=0.05)\n",
    "matplotlib.rc('legend', numpoints=1, fontsize=11)"
   ]
  },
  {
   "cell_type": "markdown",
   "metadata": {},
   "source": [
    "Ahora definimos los parámetros del sistema."
   ]
  },
  {
   "cell_type": "code",
   "execution_count": 43,
   "metadata": {},
   "outputs": [],
   "source": [
    "A = 2\n",
    "rho = 1000\n",
    "k = 5e-5\n",
    "pa = 1.013e5\n",
    "g = 9.807\n",
    "wibar = 6e-3"
   ]
  },
  {
   "cell_type": "markdown",
   "metadata": {},
   "source": [
    "Implementamos una función de python correspondiente a la ecuación dinámica del sistema:"
   ]
  },
  {
   "cell_type": "code",
   "execution_count": 44,
   "metadata": {},
   "outputs": [],
   "source": [
    "def hydrsys_eq(t, p1):    \n",
    "    A = 2\n",
    "    rho = 1000\n",
    "    k = 5e-5\n",
    "    pa = 1.013e5\n",
    "    g = 9.807\n",
    "    wibar = 6e-3\n",
    "    pdot = (rho*g)/A * (wibar - k*math.sqrt(p1 - pa))\n",
    "    return pdot"
   ]
  },
  {
   "cell_type": "markdown",
   "metadata": {},
   "source": [
    "Ahora, implementamos el método iterativo de Runge-Kutta de dos etapas:"
   ]
  },
  {
   "cell_type": "code",
   "execution_count": 45,
   "metadata": {},
   "outputs": [],
   "source": [
    "tf = 10000\n",
    "N = 10000\n",
    "h = tf/N\n",
    "t = np.linspace(0,tf,N)\n",
    "p1 = np.zeros(N)\n",
    "p1[0] = pa\n",
    "for i in range(0,N-1):\n",
    "    k1 = hydrsys_eq(t[i],p1[i])\n",
    "    k2 = hydrsys_eq(t[i]+0.5*h,p1[i]+0.5*h*k1)\n",
    "    p1[i+1] = p1[i] + h*k2"
   ]
  },
  {
   "cell_type": "markdown",
   "metadata": {},
   "source": [
    "Finalmente graficamos la respuesta:"
   ]
  },
  {
   "cell_type": "code",
   "execution_count": 47,
   "metadata": {},
   "outputs": [
    {
     "data": {
      "text/plain": [
       "<matplotlib.legend.Legend at 0x7f9d2dedecc0>"
      ]
     },
     "execution_count": 47,
     "metadata": {},
     "output_type": "execute_result"
    },
    {
     "data": {
      "image/png": "[encoded data removed]",
      "text/plain": [
       "<matplotlib.figure.Figure at 0x7f9d2de9a6a0>"
      ]
     },
     "metadata": {},
     "output_type": "display_data"
    }
   ],
   "source": [
    "p1bar = wibar**2/k**2 + pa\n",
    "p1bar = p1bar*np.ones(N)\n",
    "plt.plot(t,p1,'b',label=r\"$p_1$\")\n",
    "plt.plot(t,p1bar,'r--',label=r\"$\\bar{p}_1$\")\n",
    "plt.title(\"Respuesta paso\",fontsize=20)\n",
    "plt.xlabel(r\"Tiempo [s]\",fontsize=20)\n",
    "plt.ylabel(r\"$p_1$\",fontsize=20)\n",
    "plt.legend(loc='center right',fontsize=20)"
   ]
  },
  {
   "cell_type": "markdown",
   "metadata": {},
   "source": [
    "En la figura se observa que el sistema se estabiliza en el valor de equilibrio calculado anteriormente."
   ]
  },
  {
   "cell_type": "markdown",
   "metadata": {},
   "source": [
    "### Ejemplo 4:\n",
    "Dado el sistema mostrado en la figura:\n",
    "![title](img/pump_tank_valve.png)\n",
    "donde la bomba presenta la siguiente característica:\n",
    "![title](img/pump_tank_valve_curve.png)\n",
    "- Formule el modelo matemático, asumiendo que la característica de la bomba corresponde a una función $w_i = a_2 \\Delta p^2 + a_1 \\Delta p + a_0$.\n",
    "- Obtenga el punto de operación, asumiendo los mismos valores para los parámetros del ejemplo anterior, y $w_i = -7.5 \\times 10^{-9} \\Delta p^2 + 5 \\times 10^{-7} \\Delta p + 1 \\times 10^{-3}$.\n",
    "- Simule la respuesta del sistema"
   ]
  },
  {
   "cell_type": "markdown",
   "metadata": {},
   "source": [
    "### Solución:\n",
    "- La ecuación dinámica del tanque está dada por:"
   ]
  },
  {
   "cell_type": "code",
   "execution_count": 48,
   "metadata": {},
   "outputs": [
    {
     "data": {
      "text/latex": [
       "\\begin{align}\n",
       "    \\dot{p}_1(t) &= \\frac{\\rho g}{A}(w_i(t) - w_o(t))\\\\\n",
       "    w_i(t) &= a_2(p_1(t) - p_a)^2 + a_1(p_1(t) - p_a) + a_0\\\\\n",
       "    w_o(t) &= k \\sqrt{p_1(t) - p_a}\n",
       "\\end{align}"
      ],
      "text/plain": [
       "<IPython.core.display.Latex object>"
      ]
     },
     "metadata": {},
     "output_type": "display_data"
    }
   ],
   "source": [
    "%%latex\n",
    "\\begin{align}\n",
    "    \\dot{p}_1(t) &= \\frac{\\rho g}{A}(w_i(t) - w_o(t))\\\\\n",
    "    w_i(t) &= a_2(p_1(t) - p_a)^2 + a_1(p_1(t) - p_a) + a_0\\\\\n",
    "    w_o(t) &= k \\sqrt{p_1(t) - p_a}\n",
    "\\end{align}"
   ]
  },
  {
   "cell_type": "markdown",
   "metadata": {},
   "source": [
    "Reemplazando se obtiene"
   ]
  },
  {
   "cell_type": "code",
   "execution_count": 49,
   "metadata": {},
   "outputs": [
    {
     "data": {
      "text/latex": [
       "\\begin{equation}\n",
       "    \\dot{p}_1(t) = \\frac{\\rho g}{A}\\left(a_2(p_1(t) - p_a)^2 + a_1(p_1(t) - p_a) + a_0 - k \\sqrt{p_1(t) - p_a}\\right)\n",
       "\\end{equation}"
      ],
      "text/plain": [
       "<IPython.core.display.Latex object>"
      ]
     },
     "metadata": {},
     "output_type": "display_data"
    }
   ],
   "source": [
    "%%latex\n",
    "\\begin{equation}\n",
    "    \\dot{p}_1(t) = \\frac{\\rho g}{A}\\left(a_2(p_1(t) - p_a)^2 + a_1(p_1(t) - p_a) + a_0 - k \\sqrt{p_1(t) - p_a}\\right)\n",
    "\\end{equation}"
   ]
  },
  {
   "cell_type": "markdown",
   "metadata": {},
   "source": [
    "- Para obtener el punto de equilibrio se hace $\\dot{p}_1 = 0$, y se despeja $\\bar{p}_1$. Para hacerlo se utiliza la función `fsolve` de la librería `scipy`. Primero se define la función que queremos resolver:"
   ]
  },
  {
   "cell_type": "code",
   "execution_count": 50,
   "metadata": {},
   "outputs": [],
   "source": [
    "from scipy.optimize import fsolve\n",
    "a2 = -7.5e-9\n",
    "a1 = 5e-7\n",
    "a0 = 1e-3\n",
    "func = lambda p1 : (rho*g/A)*(a2*(p1-pa)**2 + a1*(p1-pa) + a0 - k*np.sqrt(p1-pa))"
   ]
  },
  {
   "cell_type": "markdown",
   "metadata": {},
   "source": [
    "La función `fsolve` busca de manera iterativa la solución, por lo que requiere de un valor inicial. Dicho valor puede obtenerse graficando la función en un intervalo apropiado y seleccionando un valor de $p_1$ cercano al cruce por cero:"
   ]
  },
  {
   "cell_type": "code",
   "execution_count": 51,
   "metadata": {},
   "outputs": [
    {
     "data": {
      "image/png": "[encoded data removed]",
      "text/plain": [
       "<matplotlib.figure.Figure at 0x7f9d2deda390>"
      ]
     },
     "metadata": {},
     "output_type": "display_data"
    }
   ],
   "source": [
    "p1 = np.linspace(pa,pa+400,201)\n",
    "plt.plot(p1,func(p1))\n",
    "plt.xlabel(r\"$p_1$\",fontsize=20)\n",
    "plt.ylabel(r\"func\",fontsize=20)\n",
    "plt.grid()\n",
    "plt.show()"
   ]
  },
  {
   "cell_type": "markdown",
   "metadata": {},
   "source": [
    "Ahora se resuelve la ecuación usando la función `fsolve`:"
   ]
  },
  {
   "cell_type": "code",
   "execution_count": 52,
   "metadata": {},
   "outputs": [
    {
     "name": "stdout",
     "output_type": "stream",
     "text": [
      "[221.19766661]\n",
      "[0.00074364]\n"
     ]
    }
   ],
   "source": [
    "p1_initial = 101500\n",
    "p1_soln = fsolve(func, p1_initial)\n",
    "deltapbar = p1_soln-pa\n",
    "wi_bar = a2*(p1_soln-pa)**2 + a1*(p1_soln-pa) + a0\n",
    "print(deltapbar)\n",
    "print(wi_bar)"
   ]
  },
  {
   "cell_type": "markdown",
   "metadata": {},
   "source": [
    "Al graficar las curvas características para la válvula y la bomba se observa que el punto de equilibrio corresponde a la intersección de las dos curvas:"
   ]
  },
  {
   "cell_type": "code",
   "execution_count": 53,
   "metadata": {},
   "outputs": [
    {
     "data": {
      "text/plain": [
       "(0, 500)"
      ]
     },
     "execution_count": 53,
     "metadata": {},
     "output_type": "execute_result"
    },
    {
     "data": {
      "image/png": "[encoded data removed]",
      "text/plain": [
       "<matplotlib.figure.Figure at 0x7f9d2defdb00>"
      ]
     },
     "metadata": {},
     "output_type": "display_data"
    }
   ],
   "source": [
    "deltap = np.linspace(0.0,500,100)\n",
    "w_v = k*np.sqrt(deltap)\n",
    "plt.plot(w_v,deltap,label='Valvula')\n",
    "w_p = -7.5e-9*deltap**2 + 5e-7*deltap + 1e-3\n",
    "plt.plot(w_p,deltap,label='Bomba')\n",
    "plt.plot(wi_bar,deltapbar, marker='o', markersize=10, color='red')\n",
    "plt.xlabel(r\"$w$\",fontsize=20)\n",
    "plt.ylabel(\"$\\Delta p$\",fontsize=20)\n",
    "plt.legend(loc='upper left',fontsize=20)\n",
    "plt.xlim(0,0.001)\n",
    "plt.ylim(0,500)"
   ]
  },
  {
   "cell_type": "markdown",
   "metadata": {},
   "source": [
    "- Para simular la respuesta del sistema se utiliza la misma estrategia que en el ejemplo anterior."
   ]
  },
  {
   "cell_type": "code",
   "execution_count": 54,
   "metadata": {},
   "outputs": [],
   "source": [
    "def hydrsys2_eq(t, p1):    \n",
    "    A = 2\n",
    "    rho = 1000\n",
    "    k = 5e-5\n",
    "    pa = 1.013e5\n",
    "    g = 9.807\n",
    "    a2 = -7.5e-9\n",
    "    a1 = 5e-7\n",
    "    a0 = 1e-3\n",
    "    pdot = (rho*g/A)*(a2*(p1-pa)**2 + a1*(p1-pa) + a0 - k*math.sqrt(p1-pa))\n",
    "    return pdot"
   ]
  },
  {
   "cell_type": "markdown",
   "metadata": {},
   "source": [
    "Ahora, implementamos el método iterativo de Runge-Kutta de dos etapas:"
   ]
  },
  {
   "cell_type": "code",
   "execution_count": 55,
   "metadata": {},
   "outputs": [],
   "source": [
    "tf = 1000\n",
    "N = 10000\n",
    "h = tf/N\n",
    "t = np.linspace(0.0,tf,num=N)\n",
    "p1 = np.zeros(N)\n",
    "p1[0] = pa\n",
    "for i in range(0,N-1):\n",
    "    k1 = hydrsys2_eq(t[i],p1[i])\n",
    "    k2 = hydrsys2_eq(t[i]+0.5*h,p1[i]+0.5*h*k1)\n",
    "    p1[i+1] = p1[i] + h*k2"
   ]
  },
  {
   "cell_type": "markdown",
   "metadata": {},
   "source": [
    "Finalmente graficamos la respuesta:"
   ]
  },
  {
   "cell_type": "code",
   "execution_count": 56,
   "metadata": {},
   "outputs": [
    {
     "data": {
      "text/plain": [
       "<matplotlib.legend.Legend at 0x7f9d2dd1eda0>"
      ]
     },
     "execution_count": 56,
     "metadata": {},
     "output_type": "execute_result"
    },
    {
     "data": {
      "image/png": "[encoded data removed]",
      "text/plain": [
       "<matplotlib.figure.Figure at 0x7f9d2dcf1978>"
      ]
     },
     "metadata": {},
     "output_type": "display_data"
    }
   ],
   "source": [
    "p1bar = p1_soln*np.ones(N)\n",
    "plt.plot(t,p1,'b',label=r\"$p_1$\")\n",
    "plt.plot(t,p1bar,'r--',label=r\"$\\bar{p}_1$\")\n",
    "plt.title(\"Respuesta paso\",fontsize=20)\n",
    "plt.xlabel(r\"Tiempo [s]\",fontsize=20)\n",
    "plt.ylabel(r\"$p_1$\",fontsize=20)\n",
    "plt.legend(loc='center right',fontsize=20)"
   ]
  },
  {
   "cell_type": "markdown",
   "metadata": {},
   "source": [
    "En la figura se observa que el sistema se estabiliza en el valor de equilibrio calculado anteriormente."
   ]
  },
  {
   "cell_type": "markdown",
   "metadata": {},
   "source": [
    "### Ejercicio:\n",
    "Dado el sistema mostrado en la figura:\n",
    "![title](img/pump_2tanks_2valves.png)\n",
    "- Formule el modelo matemático, asumiendo que la característica de la bomba corresponde a una función $w_i = a_2 \\Delta p^2 + a_1 \\Delta p + a_0$.\n",
    "- Obtenga el punto de operación, asumiendo los siguientes valores para los parámetros: $A_1=2$, $A_2=3$, $\\rho=1000$, $k_1 = 3 \\times 10^{-5}$, $k_2 = 5 \\times 10^{-5}$, $p_a = 1.013 \\times 10^{5}$, $g = 9.807$, $w_p = -7.5 \\times 10^{-9} \\Delta p^2 + 5 \\times 10^{-7} \\Delta p + 1 \\times 10^{-3}$.\n",
    "\n",
    "- Simule la respuesta del sistema"
   ]
  },
  {
   "cell_type": "markdown",
   "metadata": {},
   "source": [
    "## References\n",
    "- Close, C., Frederick, D., Newell, J. [Modeling and Analysis of Dynamic Systems](https://books.google.com.co/books?isbn=0471452963). 3rd Edition. Jonh Wiley & Sons, 2002."
   ]
  }
 ],
 "metadata": {
  "kernelspec": {
   "display_name": "Python 3",
   "language": "python",
   "name": "python3"
  },
  "language_info": {
   "codemirror_mode": {
    "name": "ipython",
    "version": 3
   },
   "file_extension": ".py",
   "mimetype": "text/x-python",
   "name": "python",
   "nbconvert_exporter": "python",
   "pygments_lexer": "ipython3",
   "version": "3.6.4"
  },
  "varInspector": {
   "cols": {
    "lenName": 16,
    "lenType": 16,
    "lenVar": 40
   },
   "kernels_config": {
    "python": {
     "delete_cmd_postfix": "",
     "delete_cmd_prefix": "del ",
     "library": "var_list.py",
     "varRefreshCmd": "print(var_dic_list())"
    },
    "r": {
     "delete_cmd_postfix": ") ",
     "delete_cmd_prefix": "rm(",
     "library": "var_list.r",
     "varRefreshCmd": "cat(var_dic_list()) "
    }
   },
   "types_to_exclude": [
    "module",
    "function",
    "builtin_function_or_method",
    "instance",
    "_Feature"
   ],
   "window_display": false
  }
 },
 "nbformat": 4,
 "nbformat_minor": 1
}
