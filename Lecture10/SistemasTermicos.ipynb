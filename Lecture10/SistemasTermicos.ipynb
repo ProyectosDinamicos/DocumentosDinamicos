{
 "cells": [
  {
   "cell_type": "markdown",
   "metadata": {},
   "source": [
    "# Sistemas Dinámicos - Modelos de Sistemas Térmicos\n",
    "> Gerardo de J. Becerra B.  \n",
    "> Facultad de Ingeniería, Pontificia Universidad Javeriana.  \n",
    "> Bogotá, Colombia."
   ]
  },
  {
   "cell_type": "markdown",
   "metadata": {},
   "source": [
    "## 1. Introducción\n",
    "Los sistemas térmicos son aquellos donde existe almacenamiento y flujo de calor. Sus modelos matemáticos están basados en las leyes de la termodinámica. Generalmente corresponden a sistemas distribuidos, por lo cual se representan usando ecuaciones diferenciales parciales. Sin embargo, realizando aproximaciones es posible obtener modelos concentrados en la forma de ecuaciones diferenciales ordinarias."
   ]
  },
  {
   "cell_type": "markdown",
   "metadata": {},
   "source": [
    "## 2. Variables\n",
    "Las variables usadas para describir el comportamiento dinámico de los sistemas térmicos son:\n",
    "\n",
    "| Símbolo    | Variable          | Unidades |\n",
    "|:----------:|:-----------------:|:--------:|\n",
    "| *$\\theta$* | Temperatura       | K, C     |\n",
    "| *q*        | Flujo de calor    | J/s, W   |\n"
   ]
  },
  {
   "cell_type": "markdown",
   "metadata": {},
   "source": [
    "Las temperaturas en diferentes lugares de un cuerpo usualmente son diferentes, pero en el caso de los modelos que se formularán se asumirá que  la temperatura es la misma, tomando por ejemplo la temperatura promedio. Si  las desviaciones entre las temperaturas de diferentes puntos es muy grande, es posible realizar particiones del objeto en segmentos. Dado que la temperatura es una medida de la energía térmica de un cuerpo, se utilizará ésta como variable de estado. En general, se asume que la temperatura ambiente $\\theta_a$ es constante."
   ]
  },
  {
   "cell_type": "markdown",
   "metadata": {},
   "source": [
    "## 3. Leyes de los elementos\n",
    "Una consecuencia de las leyes de la termodinámica es que sólo existen dos tipos de elementos térmicos pasivos: resistencia térmica y capacitancia térmica. La resistencia térmica se relaciona con fenómenos donde existe transferencia de calor entre diferentes sistemas, mientras que la capacitancia térmica se relaciona con el almacenamiento de energía térmica dentro de un cuerpo."
   ]
  },
  {
   "cell_type": "markdown",
   "metadata": {},
   "source": [
    "### 3.1 Transferencia de calor\n",
    "La transferencia de calor hace referencia a los fenómenos que se presentan cuando diferentes sistemas físicos intercambian energía térmica. Existen tres mecanismos principales de transferencia de calor:\n",
    "1. Conducción: Sucede como resultado del intercambio microscópico de energía cinética entre particulas a través de la frontera entre dos sistemas.\n",
    "2. Convección: Ocurre cuando la transferencia de calor ocurre por el movimiento de fluidos.\n",
    "3. Radiación: Se presenta en forma de raciación electromagnética generada por el movimiento térmico de partículas con carga."
   ]
  },
  {
   "cell_type": "markdown",
   "metadata": {},
   "source": [
    "### 3.1.1 Conducción\n",
    "La transferencia de calor por conducción se debe a la interacción molecular en un cuerpo sólido. Fourier determinó que el flujo de calor por unidad de área $q/A$ es proporcional al gradiente de temperatura $d\\theta/dx$ en la dirección $x$ del flujo. "
   ]
  },
  {
   "cell_type": "markdown",
   "metadata": {},
   "source": [
    "![conduction](img/conduction.gif)"
   ]
  },
  {
   "cell_type": "markdown",
   "metadata": {},
   "source": [
    "La constante de proporcionalidad $k$ se conoce como la **conductividad térmica** del material. Dicha relación se puede expresar como:"
   ]
  },
  {
   "cell_type": "code",
   "execution_count": 1,
   "metadata": {},
   "outputs": [
    {
     "data": {
      "text/latex": [
       "\\begin{equation}\n",
       "    \\frac{q}{A} = -k\\frac{d\\theta}{dx}\n",
       "\\end{equation}"
      ],
      "text/plain": [
       "<IPython.core.display.Latex object>"
      ]
     },
     "metadata": {},
     "output_type": "display_data"
    }
   ],
   "source": [
    "%%latex\n",
    "\\begin{equation}\n",
    "    \\frac{q}{A} = -k\\frac{d\\theta}{dx}\n",
    "\\end{equation}"
   ]
  },
  {
   "cell_type": "markdown",
   "metadata": {},
   "source": [
    "Diferentes tipos de materiales poseen diferentes valores de conductividad térmica. En la siguiente tabla se presentan los valores para algunos materiales comunes para temperatura ambiente:\n",
    "\n",
    "| Material        | Conductividad térmica [W/(m K)]  |\n",
    "|:---------------:|:--------------------------------:|\n",
    "| Aluminio        | 240                              |\n",
    "| Cobre           | 400                              |\n",
    "| Hierro fundido  | 80                               |\n",
    "| Agua            | 0.61                             |\n",
    "| Aire            | 0.026                            |"
   ]
  },
  {
   "cell_type": "markdown",
   "metadata": {},
   "source": [
    "Note que los metales, además de ser buenos conductores de electricidad, también tienden a ser buenos conductores de calor. La conductividad térmica es una propiedad que depende de la temperatura."
   ]
  },
  {
   "cell_type": "markdown",
   "metadata": {},
   "source": [
    "Para sistemas con conductividad térmica uniforme, la anterior ecuación se puede escribir como:"
   ]
  },
  {
   "cell_type": "code",
   "execution_count": 2,
   "metadata": {},
   "outputs": [
    {
     "data": {
      "text/latex": [
       "\\begin{equation}\n",
       "    q = kS(\\theta_1-\\theta_2)\n",
       "\\end{equation}"
      ],
      "text/plain": [
       "<IPython.core.display.Latex object>"
      ]
     },
     "metadata": {},
     "output_type": "display_data"
    }
   ],
   "source": [
    "%%latex\n",
    "\\begin{equation}\n",
    "    q = kS(\\theta_1-\\theta_2)\n",
    "\\end{equation}"
   ]
  },
  {
   "cell_type": "markdown",
   "metadata": {},
   "source": [
    "donde $S$ corresponde al factor de forma y es un parámetro que hace referencia a la geometría del cuerpo."
   ]
  },
  {
   "cell_type": "markdown",
   "metadata": {},
   "source": [
    "---\n",
    "### Ejemplo 1:\n",
    "Evalúe la conductividad térmica para una cuerpo plano de espesor $d$ y área transversal $A$."
   ]
  },
  {
   "cell_type": "markdown",
   "metadata": {},
   "source": [
    "![planewall](img/Cube.svg)"
   ]
  },
  {
   "cell_type": "markdown",
   "metadata": {},
   "source": [
    "### Solución:\n",
    "Reescribiendo la ecuación de Fourier e integrando se obtiene:"
   ]
  },
  {
   "cell_type": "code",
   "execution_count": 3,
   "metadata": {},
   "outputs": [
    {
     "data": {
      "text/latex": [
       "\\begin{align}\n",
       "    \\frac{q}{A} &= -k\\frac{d\\theta}{dx}\\\\\n",
       "    q dx &= -kAd\\theta\\\\\n",
       "    q \\int_0^L dx &= -kA\\int_{\\theta_1}^{\\theta_2} d\\theta\\\\\n",
       "    qL &= -kA(\\theta_2-\\theta_1)\\\\\n",
       "    q &= \\frac{kA}{L}(\\theta_1-\\theta_2)\\\\\n",
       "    q &= \\frac{1}{R}(\\theta_1-\\theta_2)\\\\\n",
       "\\end{align}"
      ],
      "text/plain": [
       "<IPython.core.display.Latex object>"
      ]
     },
     "metadata": {},
     "output_type": "display_data"
    }
   ],
   "source": [
    "%%latex\n",
    "\\begin{align}\n",
    "    \\frac{q}{A} &= -k\\frac{d\\theta}{dx}\\\\\n",
    "    q dx &= -kAd\\theta\\\\\n",
    "    q \\int_0^L dx &= -kA\\int_{\\theta_1}^{\\theta_2} d\\theta\\\\\n",
    "    qL &= -kA(\\theta_2-\\theta_1)\\\\\n",
    "    q &= \\frac{kA}{L}(\\theta_1-\\theta_2)\\\\\n",
    "    q &= \\frac{1}{R}(\\theta_1-\\theta_2)\\\\\n",
    "\\end{align}"
   ]
  },
  {
   "cell_type": "markdown",
   "metadata": {},
   "source": [
    "$R$ corresponde a la **resistencia térmica** entre los cuerpos:"
   ]
  },
  {
   "cell_type": "code",
   "execution_count": 4,
   "metadata": {
    "scrolled": true
   },
   "outputs": [
    {
     "data": {
      "text/latex": [
       "\\begin{equation}\n",
       "    R = \\frac{L}{kA}\n",
       "\\end{equation}"
      ],
      "text/plain": [
       "<IPython.core.display.Latex object>"
      ]
     },
     "metadata": {},
     "output_type": "display_data"
    }
   ],
   "source": [
    "%%latex\n",
    "\\begin{equation}\n",
    "    R = \\frac{L}{kA}\n",
    "\\end{equation}"
   ]
  },
  {
   "cell_type": "markdown",
   "metadata": {},
   "source": [
    "La anterior ecuación es válida si el material considerado no almacena calor. En caso contrario, se debe incluir una capacitancia térmica en el modelo."
   ]
  },
  {
   "cell_type": "markdown",
   "metadata": {},
   "source": [
    "---\n",
    "### Ejemplo 2:\n",
    "Evalúe la resistencia térmica para el cilindro de la figura, donde el calor fluye desde la pared interna, cuya temperatura es $\\theta_1$, hacia la pared externa, con temperatura $\\theta_2$. "
   ]
  },
  {
   "cell_type": "markdown",
   "metadata": {},
   "source": [
    "![cilindro](img/cilinder.svg)"
   ]
  },
  {
   "cell_type": "markdown",
   "metadata": {},
   "source": [
    "### Solución:\n",
    "De forma similar al caso anterior, se parte de la ecuación de Fourier. El área de la sección transversal del cilindro se puede expresar como una función del radio $r$:"
   ]
  },
  {
   "cell_type": "code",
   "execution_count": 5,
   "metadata": {},
   "outputs": [
    {
     "data": {
      "text/latex": [
       "\\begin{equation}\n",
       "    A(r) = 2 \\pi r L\n",
       "\\end{equation}"
      ],
      "text/plain": [
       "<IPython.core.display.Latex object>"
      ]
     },
     "metadata": {},
     "output_type": "display_data"
    }
   ],
   "source": [
    "%%latex\n",
    "\\begin{equation}\n",
    "    A(r) = 2 \\pi r L\n",
    "\\end{equation}"
   ]
  },
  {
   "cell_type": "markdown",
   "metadata": {},
   "source": [
    "Ahora, reemplazando en la ecuación de Fourier se tiene:"
   ]
  },
  {
   "cell_type": "code",
   "execution_count": 6,
   "metadata": {},
   "outputs": [
    {
     "data": {
      "text/latex": [
       "\\begin{align}\n",
       "    q &= -kA\\frac{d\\theta}{dr}\\\\\n",
       "    q &= -2 k \\pi r L\\frac{d\\theta}{dx}\\\\\n",
       "    \\frac{q}{r} dr &= -2 k \\pi L d\\theta\\\\\n",
       "    q \\int_{R_1}^{R_2}\\frac{1}{r} dr &= -2 k \\pi L \\int_{\\theta_1}^{\\theta_2} d\\theta\\\\\n",
       "    q \\ln\\left(\\frac{R_2}{R_1}\\right) &= -2 k \\pi L (\\theta_2 - \\theta_1)\\\\\n",
       "    q &= \\frac{2 k \\pi L}{\\ln\\left(\\frac{R_2}{R_1}\\right)} (\\theta_1 - \\theta_2)\\\\\n",
       "    q &= \\frac{1}{R} (\\theta_1 - \\theta_2)\\\\\n",
       "\\end{align}"
      ],
      "text/plain": [
       "<IPython.core.display.Latex object>"
      ]
     },
     "metadata": {},
     "output_type": "display_data"
    }
   ],
   "source": [
    "%%latex\n",
    "\\begin{align}\n",
    "    q &= -kA\\frac{d\\theta}{dr}\\\\\n",
    "    q &= -2 k \\pi r L\\frac{d\\theta}{dx}\\\\\n",
    "    \\frac{q}{r} dr &= -2 k \\pi L d\\theta\\\\\n",
    "    q \\int_{R_1}^{R_2}\\frac{1}{r} dr &= -2 k \\pi L \\int_{\\theta_1}^{\\theta_2} d\\theta\\\\\n",
    "    q \\ln\\left(\\frac{R_2}{R_1}\\right) &= -2 k \\pi L (\\theta_2 - \\theta_1)\\\\\n",
    "    q &= \\frac{2 k \\pi L}{\\ln\\left(\\frac{R_2}{R_1}\\right)} (\\theta_1 - \\theta_2)\\\\\n",
    "    q &= \\frac{1}{R} (\\theta_1 - \\theta_2)\\\\\n",
    "\\end{align}"
   ]
  },
  {
   "cell_type": "markdown",
   "metadata": {},
   "source": [
    "Por lo tanto, la resistencia térmica del cilindro corresponde a:"
   ]
  },
  {
   "cell_type": "code",
   "execution_count": 7,
   "metadata": {},
   "outputs": [
    {
     "data": {
      "text/latex": [
       "\\begin{equation}\n",
       "    R = \\frac{\\ln\\left(\\frac{R_2}{R_1}\\right)}{2 k \\pi L}\n",
       "\\end{equation}"
      ],
      "text/plain": [
       "<IPython.core.display.Latex object>"
      ]
     },
     "metadata": {},
     "output_type": "display_data"
    }
   ],
   "source": [
    "%%latex\n",
    "\\begin{equation}\n",
    "    R = \\frac{\\ln\\left(\\frac{R_2}{R_1}\\right)}{2 k \\pi L}\n",
    "\\end{equation}"
   ]
  },
  {
   "cell_type": "markdown",
   "metadata": {},
   "source": [
    "---\n",
    "### Ejemplo 3:\n",
    "Considere dos cuerpos que se encuentran a temperaturas $\\theta_1$ y $\\theta_2$, separados por dos resistencias $R_1$ y $R_2$. El calor fluye a través de cada resistencia con una tasa $q$, pero no puede fluir a través del material aislante que se encuentra arriba y abajo de las resistencias. Encuentre el valor de la resistencia térmica equivalente $R_{eq}$."
   ]
  },
  {
   "cell_type": "markdown",
   "metadata": {},
   "source": [
    "![R_series](img/R_series.png)"
   ]
  },
  {
   "cell_type": "markdown",
   "metadata": {},
   "source": [
    "### Solución:\n",
    "Expresando el flujo por cada resistencia en términos de las diferencias de temperaturas se tiene:"
   ]
  },
  {
   "cell_type": "code",
   "execution_count": 8,
   "metadata": {},
   "outputs": [
    {
     "data": {
      "text/latex": [
       "\\begin{align}\n",
       "    q &= \\frac{1}{R_1}(\\theta_1-\\theta_B)\\\\\n",
       "    q &= \\frac{1}{R_2}(\\theta_B-\\theta_2)\n",
       "\\end{align}"
      ],
      "text/plain": [
       "<IPython.core.display.Latex object>"
      ]
     },
     "metadata": {},
     "output_type": "display_data"
    }
   ],
   "source": [
    "%%latex\n",
    "\\begin{align}\n",
    "    q &= \\frac{1}{R_1}(\\theta_1-\\theta_B)\\\\\n",
    "    q &= \\frac{1}{R_2}(\\theta_B-\\theta_2)\n",
    "\\end{align}"
   ]
  },
  {
   "cell_type": "markdown",
   "metadata": {},
   "source": [
    "Despejando $\\theta_B$ de las ecuaciones se tiene:"
   ]
  },
  {
   "cell_type": "code",
   "execution_count": 9,
   "metadata": {},
   "outputs": [
    {
     "data": {
      "text/latex": [
       "\\begin{align}\n",
       "    \\theta_B &= \\theta_1-R_1 q\\\\\n",
       "    \\theta_B &= \\theta_2 + R_2 q\n",
       "\\end{align}"
      ],
      "text/plain": [
       "<IPython.core.display.Latex object>"
      ]
     },
     "metadata": {},
     "output_type": "display_data"
    }
   ],
   "source": [
    "%%latex\n",
    "\\begin{align}\n",
    "    \\theta_B &= \\theta_1-R_1 q\\\\\n",
    "    \\theta_B &= \\theta_2 + R_2 q\n",
    "\\end{align}"
   ]
  },
  {
   "cell_type": "markdown",
   "metadata": {},
   "source": [
    "Igualando las ecuaciones para eliminar $\\theta_B$:"
   ]
  },
  {
   "cell_type": "code",
   "execution_count": 10,
   "metadata": {},
   "outputs": [
    {
     "data": {
      "text/latex": [
       "\\begin{align}\n",
       "    \\theta_1-R_1 q &= \\theta_2 + R_2 q\\\\\n",
       "    (R_1+R_2)q &= \\theta_1-\\theta_2\\\\\n",
       "    q &= \\frac{1}{R_1+R_2} (\\theta_1-\\theta_2)\n",
       "\\end{align}"
      ],
      "text/plain": [
       "<IPython.core.display.Latex object>"
      ]
     },
     "metadata": {},
     "output_type": "display_data"
    }
   ],
   "source": [
    "%%latex\n",
    "\\begin{align}\n",
    "    \\theta_1-R_1 q &= \\theta_2 + R_2 q\\\\\n",
    "    (R_1+R_2)q &= \\theta_1-\\theta_2\\\\\n",
    "    q &= \\frac{1}{R_1+R_2} (\\theta_1-\\theta_2)\n",
    "\\end{align}"
   ]
  },
  {
   "cell_type": "markdown",
   "metadata": {},
   "source": [
    "Por lo tanto, la resistencia térmica equivalente es $R_{eq} = R_1 + R_2$."
   ]
  },
  {
   "cell_type": "markdown",
   "metadata": {},
   "source": [
    "---\n",
    "### Ejemplo 4:\n",
    "Se tiene un recipiente cilíndrico cuyas paredes tienen grosor $T$ y un material cuya conductividad térmica es $\\alpha$. Calcule la resistencia térmica de la cara lateral del cilindro $R_c$ y de las tapas de los extremos $R_e$."
   ]
  },
  {
   "cell_type": "markdown",
   "metadata": {},
   "source": [
    "![cilindro](img/cilinder_R.png)"
   ]
  },
  {
   "cell_type": "markdown",
   "metadata": {},
   "source": [
    "### Solución:\n",
    "La resistencia térmica en cada tapa circular del cilindro correponde a:"
   ]
  },
  {
   "cell_type": "code",
   "execution_count": 11,
   "metadata": {},
   "outputs": [
    {
     "data": {
      "text/latex": [
       "\\begin{equation}\n",
       "    R_e = \\frac{4T}{\\pi D^2 \\alpha}\n",
       "\\end{equation}"
      ],
      "text/plain": [
       "<IPython.core.display.Latex object>"
      ]
     },
     "metadata": {},
     "output_type": "display_data"
    }
   ],
   "source": [
    "%%latex\n",
    "\\begin{equation}\n",
    "    R_e = \\frac{4T}{\\pi D^2 \\alpha}\n",
    "\\end{equation}"
   ]
  },
  {
   "cell_type": "markdown",
   "metadata": {},
   "source": [
    "La resistencia térmica asociada a la cara lateral del cilindro ya se calculó en el ejemplo 2. Sin embargo, es posible hacer la siguiente aproximación: asumiendo que el grosor $T$ de las paredes del tanque es mucho menor que el diámetro $D$ del cilindro se puede decir que la resistencia térmica corresponde a la que está dada por una pared rectangular de espesor $T$ y área $\\pi D L$ (lo que se obtendría si el cilindro se desdoblara hasta obtener una lámina plana). En éste caso, la resistencia térmica es:"
   ]
  },
  {
   "cell_type": "code",
   "execution_count": 12,
   "metadata": {},
   "outputs": [
    {
     "data": {
      "text/latex": [
       "\\begin{equation}\n",
       "    R_c = \\frac{T}{\\pi D L \\alpha}\n",
       "\\end{equation}"
      ],
      "text/plain": [
       "<IPython.core.display.Latex object>"
      ]
     },
     "metadata": {},
     "output_type": "display_data"
    }
   ],
   "source": [
    "%%latex\n",
    "\\begin{equation}\n",
    "    R_c = \\frac{T}{\\pi D L \\alpha}\n",
    "\\end{equation}"
   ]
  },
  {
   "cell_type": "markdown",
   "metadata": {},
   "source": [
    "El flujo de calor en las tapas circulares se puede expresar como:"
   ]
  },
  {
   "cell_type": "code",
   "execution_count": 13,
   "metadata": {},
   "outputs": [
    {
     "data": {
      "text/latex": [
       "\\begin{equation}\n",
       "    q_e = \\frac{\\Delta \\theta}{R_e}\n",
       "\\end{equation}"
      ],
      "text/plain": [
       "<IPython.core.display.Latex object>"
      ]
     },
     "metadata": {},
     "output_type": "display_data"
    }
   ],
   "source": [
    "%%latex\n",
    "\\begin{equation}\n",
    "    q_e = \\frac{\\Delta \\theta}{R_e}\n",
    "\\end{equation}"
   ]
  },
  {
   "cell_type": "markdown",
   "metadata": {},
   "source": [
    "donde $\\Delta \\theta$ representa la diferencia entre la temperatura interior y la exterior. Para la pared lateral se tiene el flujo como:"
   ]
  },
  {
   "cell_type": "code",
   "execution_count": 14,
   "metadata": {},
   "outputs": [
    {
     "data": {
      "text/latex": [
       "\\begin{equation}\n",
       "    q_c = \\frac{\\Delta \\theta}{R_c}\n",
       "\\end{equation}"
      ],
      "text/plain": [
       "<IPython.core.display.Latex object>"
      ]
     },
     "metadata": {},
     "output_type": "display_data"
    }
   ],
   "source": [
    "%%latex\n",
    "\\begin{equation}\n",
    "    q_c = \\frac{\\Delta \\theta}{R_c}\n",
    "\\end{equation}"
   ]
  },
  {
   "cell_type": "markdown",
   "metadata": {},
   "source": [
    "El flujo total corresponde a:"
   ]
  },
  {
   "cell_type": "code",
   "execution_count": 15,
   "metadata": {},
   "outputs": [
    {
     "data": {
      "text/latex": [
       "\\begin{align}\n",
       "    q_T &= 2q_e + q_c\\\\\n",
       "    q_T &= \\left(\\frac{2}{R_e} + \\frac{1}{R_c} \\right) \\Delta \\theta\\\\\n",
       "    q_T &= \\frac{1}{R_{eq}}\\Delta \\theta\n",
       "\\end{align}"
      ],
      "text/plain": [
       "<IPython.core.display.Latex object>"
      ]
     },
     "metadata": {},
     "output_type": "display_data"
    }
   ],
   "source": [
    "%%latex\n",
    "\\begin{align}\n",
    "    q_T &= 2q_e + q_c\\\\\n",
    "    q_T &= \\left(\\frac{2}{R_e} + \\frac{1}{R_c} \\right) \\Delta \\theta\\\\\n",
    "    q_T &= \\frac{1}{R_{eq}}\\Delta \\theta\n",
    "\\end{align}"
   ]
  },
  {
   "cell_type": "markdown",
   "metadata": {},
   "source": [
    "Por lo tanto, la resistencia equivalente es:"
   ]
  },
  {
   "cell_type": "code",
   "execution_count": 16,
   "metadata": {},
   "outputs": [
    {
     "data": {
      "text/latex": [
       "\\begin{equation}\n",
       "    R_{eq} = \\frac{R_c R_e}{2R_c + R_e}\n",
       "\\end{equation}"
      ],
      "text/plain": [
       "<IPython.core.display.Latex object>"
      ]
     },
     "metadata": {},
     "output_type": "display_data"
    }
   ],
   "source": [
    "%%latex\n",
    "\\begin{equation}\n",
    "    R_{eq} = \\frac{R_c R_e}{2R_c + R_e}\n",
    "\\end{equation}"
   ]
  },
  {
   "cell_type": "markdown",
   "metadata": {},
   "source": [
    "En éste caso se puede concluir que las tres resistencias térmicas se encuentran en **paralelo**, ya que presentan tres caminos diferentes para el flujo de calor, con la misma diferencia de temperatura entre los puntos."
   ]
  },
  {
   "cell_type": "markdown",
   "metadata": {},
   "source": [
    "---\n",
    "### 3.1.2 Convección\n",
    "La transferencia de calor por convección se produce cuando un fluido (líquido, gas) es calentado y transportado a otro lugar, llevando consigo la energía térmica. El movimiento se genera en forma de corrientes debidas al cambio en la densidad. El intercambio de energía se produce entre un fluído y la superficie de un cuerpo sólido. Existen dos tipos de convección:\n",
    "1. Convección natural: El movimiento del fluído es causado por las fuerzas que resultan de las variaciones de densidad.\n",
    "2. Convección forzada: El fluido es forzado a fluir sobre la superficie usando una fuente (ventilador, agitador, bomba) creando corrientes de convección inducidas artificialmente."
   ]
  },
  {
   "cell_type": "markdown",
   "metadata": {},
   "source": [
    "La relación básica que expresa el intercambio de calor es la *ley de enfriamiento de Newton*:"
   ]
  },
  {
   "cell_type": "code",
   "execution_count": 17,
   "metadata": {},
   "outputs": [
    {
     "data": {
      "text/latex": [
       "\\begin{equation}\n",
       "    q = hA(\\theta_a-\\theta_b)\n",
       "\\end{equation}"
      ],
      "text/plain": [
       "<IPython.core.display.Latex object>"
      ]
     },
     "metadata": {},
     "output_type": "display_data"
    }
   ],
   "source": [
    "%%latex\n",
    "\\begin{equation}\n",
    "    q = hA(\\theta_a-\\theta_b)\n",
    "\\end{equation}"
   ]
  },
  {
   "cell_type": "markdown",
   "metadata": {},
   "source": [
    "donde $q$ corresponde al calor intercambiado por unidad de tiempo, $A$ es el área del objeto, $h$ el coeficiente de transferencia de calor, $\\theta_a$ es la temperatura en la superficie del objeto y $\\theta_b$ la temperatura del fluido. La conductividad térmica depende de las propiedades del fluido. Sus valores normalmente son obtenidos de manera experimental para casos particulares."
   ]
  },
  {
   "cell_type": "markdown",
   "metadata": {},
   "source": [
    "En la siguiente tabla se presentan los valores del coeficiente de transferencia de calor $h$ para diferentes medios:\n",
    "\n",
    "| Material                     | h [W/(m^2 K)]  |\n",
    "| :--------------------------: | :------------------------------: |\n",
    "| Aire (convección natural)    | 5 - 25                           |\n",
    "| Aire (convección forzada)    | 20 - 300                         |\n",
    "| Aceite (convección forzada)  | 60 - 1800                        |\n",
    "| Agua (convección forzada)    | 300 - 6000                       |\n",
    "| Agua hirviente               | 3000 - 60000                     |\n",
    "| Vapor de agua                | 6000 - 120000                    |"
   ]
  },
  {
   "cell_type": "markdown",
   "metadata": {},
   "source": [
    "### 3.1 Capacitancia térmica\n",
    "Existe una relación algebráica entre la temperatura de un cuerpo físico y el calor almacenado en éste. Asumiendo que no existen cambios de fase y que se consideran temperaturas en un intervalo restringido, la relación se puede considerar lineal. Dado $q_{in}(t)$ el flujo de calor de entrada al cuerpo y $q_{out}(t)$ el flujo neto de salida, se puede expresar el calor neto como:"
   ]
  },
  {
   "cell_type": "code",
   "execution_count": 18,
   "metadata": {},
   "outputs": [
    {
     "data": {
      "text/latex": [
       "\\begin{equation}\n",
       "    \\int_{t_0}^t \\left[q_{in}(\\tau)-q_{out}(\\tau)\\right] d\\tau\n",
       "\\end{equation}"
      ],
      "text/plain": [
       "<IPython.core.display.Latex object>"
      ]
     },
     "metadata": {},
     "output_type": "display_data"
    }
   ],
   "source": [
    "%%latex\n",
    "\\begin{equation}\n",
    "    \\int_{t_0}^t \\left[q_{in}(\\tau)-q_{out}(\\tau)\\right] d\\tau\n",
    "\\end{equation}"
   ]
  },
  {
   "cell_type": "markdown",
   "metadata": {},
   "source": [
    "Asumiendo una relación constante entre el calor neto y el cambio de temperatura, se puede expresar la temperatura del cuerpo como:"
   ]
  },
  {
   "cell_type": "code",
   "execution_count": 19,
   "metadata": {},
   "outputs": [
    {
     "data": {
      "text/latex": [
       "\\begin{equation}\n",
       "    \\theta(t) = \\theta(t_0) + \\frac{1}{C} \\int_{t_0}^t \\left[q_{in}(\\tau)-q_{out}(\\tau)\\right] d\\tau\n",
       "\\end{equation}"
      ],
      "text/plain": [
       "<IPython.core.display.Latex object>"
      ]
     },
     "metadata": {},
     "output_type": "display_data"
    }
   ],
   "source": [
    "%%latex\n",
    "\\begin{equation}\n",
    "    \\theta(t) = \\theta(t_0) + \\frac{1}{C} \\int_{t_0}^t \\left[q_{in}(\\tau)-q_{out}(\\tau)\\right] d\\tau\n",
    "\\end{equation}"
   ]
  },
  {
   "cell_type": "markdown",
   "metadata": {},
   "source": [
    "La constante $C$ se conoce como **capacitancia térmica**. Para un cuerpo que tiene masa $M$ y calor específico $\\sigma$, la capacitancia térmica se puede expresar como $C = M\\sigma$. Diferenciando la ecuación anterior se obtiene:"
   ]
  },
  {
   "cell_type": "code",
   "execution_count": 20,
   "metadata": {},
   "outputs": [
    {
     "data": {
      "text/latex": [
       "\\begin{equation}\n",
       "    \\dot{\\theta} = \\frac{1}{C} \\left[q_{in}(t)-q_{out}(t)\\right]\n",
       "\\end{equation}"
      ],
      "text/plain": [
       "<IPython.core.display.Latex object>"
      ]
     },
     "metadata": {},
     "output_type": "display_data"
    }
   ],
   "source": [
    "%%latex\n",
    "\\begin{equation}\n",
    "    \\dot{\\theta} = \\frac{1}{C} \\left[q_{in}(t)-q_{out}(t)\\right]\n",
    "\\end{equation}"
   ]
  },
  {
   "cell_type": "markdown",
   "metadata": {},
   "source": [
    "La anterior expresión puede usarse sólo si la temperatura al interior del cuerpo es aproximadamente uniforme. En caso contrario, se debe realilzar una partición del cuerpo."
   ]
  },
  {
   "cell_type": "markdown",
   "metadata": {},
   "source": [
    "### 3.3 Fuentes térmicas\n",
    "Las fuentes térmicas ideales consideradas aquí pueden agregar calor al sistema (q_i positivo) o remover calor del sistema (q_i negativo)."
   ]
  },
  {
   "cell_type": "markdown",
   "metadata": {},
   "source": [
    "![source](img/source.png)"
   ]
  },
  {
   "cell_type": "markdown",
   "metadata": {},
   "source": [
    "## 4. Modelos de sistemas térmicos\n",
    "A partir de las leyes fundamentales de los elementos y de las leyes de interconexión, es posible obtener modelos que representan el comportamiento dinámico de los sistemas térmicos. Normalmente se seleccionarán como variables de estado las temperaturas de cada capacitancia térmica, formulando el cambio en la temperatura como función del flujo neto de calor. Dicho flujo dependerá de las fuentes de calor y las resistencias térmicas presentes."
   ]
  },
  {
   "cell_type": "markdown",
   "metadata": {},
   "source": [
    "---\n",
    "### Ejemplo 5:\n",
    "El sistema térmico considerado posee una capacitancia térmica $C$, rodeada por un material con una resistencia térmica equivalente $R$. La temperatura al interior es $\\theta$ y se asume uniforme. Existe una fuente $q_i$ que añade calor al sistema. La temperatura ambiente $\\theta_a$ en el exterior se asume constante.\n",
    "- Encuentre el modelo en variables de estado del sistema.\n",
    "- Encuentre el punto de equilibrio cuando $q_i=\\bar{q}_i$."
   ]
  },
  {
   "cell_type": "markdown",
   "metadata": {},
   "source": [
    "![RC](img/RC.png)"
   ]
  },
  {
   "cell_type": "markdown",
   "metadata": {},
   "source": [
    "### Solución:\n",
    "- Escribiendo la ecuación para la capacitancia se tiene:"
   ]
  },
  {
   "cell_type": "code",
   "execution_count": 21,
   "metadata": {},
   "outputs": [
    {
     "data": {
      "text/latex": [
       "\\begin{align}\n",
       "    \\dot{\\theta}(t) &= \\frac{1}{C}\\left(q_{in}(t)-q_{out}(t)\\right)\\\\\n",
       "    \\dot{\\theta}(t) &= \\frac{1}{C}\\left[q_i(t)-\\frac{\\theta(t)-\\theta_a}{R}\\right]\\\\\n",
       "    \\dot{\\theta}(t) &= -\\frac{1}{RC}\\theta(t) + \\frac{1}{C}q_i(t) + \\frac{1}{RC}\\theta_a\n",
       "\\end{align}"
      ],
      "text/plain": [
       "<IPython.core.display.Latex object>"
      ]
     },
     "metadata": {},
     "output_type": "display_data"
    }
   ],
   "source": [
    "%%latex\n",
    "\\begin{align}\n",
    "    \\dot{\\theta}(t) &= \\frac{1}{C}\\left(q_{in}(t)-q_{out}(t)\\right)\\\\\n",
    "    \\dot{\\theta}(t) &= \\frac{1}{C}\\left[q_i(t)-\\frac{\\theta(t)-\\theta_a}{R}\\right]\\\\\n",
    "    \\dot{\\theta}(t) &= -\\frac{1}{RC}\\theta(t) + \\frac{1}{C}q_i(t) + \\frac{1}{RC}\\theta_a\n",
    "\\end{align}"
   ]
  },
  {
   "cell_type": "markdown",
   "metadata": {},
   "source": [
    "- Para obtener el punto de equilibrio, se hace la derivada igual a cero y se despeja $\\bar{\\theta}$."
   ]
  },
  {
   "cell_type": "code",
   "execution_count": 22,
   "metadata": {},
   "outputs": [
    {
     "data": {
      "text/latex": [
       "\\begin{align}\n",
       "    0 &= -\\bar{\\theta} + R\\bar{q}_i + \\theta_a\\\\\n",
       "    \\bar{\\theta} &=  R\\bar{q}_i + \\theta_a\\\\\n",
       "\\end{align}"
      ],
      "text/plain": [
       "<IPython.core.display.Latex object>"
      ]
     },
     "metadata": {},
     "output_type": "display_data"
    }
   ],
   "source": [
    "%%latex\n",
    "\\begin{align}\n",
    "    0 &= -\\bar{\\theta} + R\\bar{q}_i + \\theta_a\\\\\n",
    "    \\bar{\\theta} &=  R\\bar{q}_i + \\theta_a\\\\\n",
    "\\end{align}"
   ]
  },
  {
   "cell_type": "markdown",
   "metadata": {},
   "source": [
    "---\n",
    "### Ejemplo 6:\n",
    "Se tiene un sistema con dos capacitancias térmicas $C_1$ y $C_2$ y una fuente de calor $q_i(t)$. El calor se disipa hacia el lado derecho donde se tiene temperatura ambiente $\\theta_a$. El calor fluye a través de dos resistencias térmicas $R_1$ y $R_2$. Se asume que el resto del sistema se encuentra perfectamente aislado.\n",
    "- Obtenga el modelo en variables de estado del sistema.\n",
    "- Encuentre el punto de equilibrio para $q_i = \\bar{q}_i$.\n",
    "- Asumiendo $C_1=1 \\times 10^{5}$ [J/K], $C_2=2 \\times 10^{5}$ [J/K], $R_1 = 1 \\times 10^{-3}$ [sJ/J], $R_2 = 5 \\times 10^{-3}$ [sK/J], $\\theta_a = 300$ [K], simule la respuesta del sistema para una entrada paso de amplitud $\\bar{q}_i = 1000$ [W].\n",
    "- Simule la respuesta del sistema asumiendo ahora que la entrada $q_i(t)$ no se mantiene constante, sino que se enciende y se apaga de manera periódica, con un periodo de $T = 500$ s y ciclo útil $d = 50$%. ¿Alrededor de qué valor se  estabiliza cada temperatura? "
   ]
  },
  {
   "cell_type": "markdown",
   "metadata": {},
   "source": [
    "![RCRC](img/RCRC.png)"
   ]
  },
  {
   "cell_type": "markdown",
   "metadata": {},
   "source": [
    "### Solución:\n",
    "- Escribiendo las ecuaciones para las dos capacitancias térmicas se tiene:"
   ]
  },
  {
   "cell_type": "code",
   "execution_count": 23,
   "metadata": {},
   "outputs": [
    {
     "data": {
      "text/latex": [
       "\\begin{align}\n",
       "    \\dot{\\theta}_1(t) &= \\frac{1}{C_1}\\left[q_i(t) - \\frac{\\theta_1(t)-\\theta_2(t)}{R_1}\\right]\\\\\n",
       "    \\dot{\\theta}_2(t) &= \\frac{1}{C_2}\\left[\\frac{\\theta_1(t)-\\theta_2(t)}{R_1} - \\frac{\\theta_2(t)-\\theta_a}{R_2}\\right]\n",
       "\\end{align}"
      ],
      "text/plain": [
       "<IPython.core.display.Latex object>"
      ]
     },
     "metadata": {},
     "output_type": "display_data"
    }
   ],
   "source": [
    "%%latex\n",
    "\\begin{align}\n",
    "    \\dot{\\theta}_1(t) &= \\frac{1}{C_1}\\left[q_i(t) - \\frac{\\theta_1(t)-\\theta_2(t)}{R_1}\\right]\\\\\n",
    "    \\dot{\\theta}_2(t) &= \\frac{1}{C_2}\\left[\\frac{\\theta_1(t)-\\theta_2(t)}{R_1} - \\frac{\\theta_2(t)-\\theta_a}{R_2}\\right]\n",
    "\\end{align}"
   ]
  },
  {
   "cell_type": "markdown",
   "metadata": {},
   "source": [
    "- Haciendo las derivadas igual a cero se tiene:"
   ]
  },
  {
   "cell_type": "code",
   "execution_count": 24,
   "metadata": {},
   "outputs": [
    {
     "data": {
      "text/latex": [
       "\\begin{align}\n",
       "    0 &= \\bar{q}_i - \\frac{\\bar{\\theta}_1-\\bar{\\theta}_2}{R_1}\\\\\n",
       "    0 &= \\frac{\\bar{\\theta}_1-\\bar{\\theta}_2}{R_1} - \\frac{\\bar{\\theta}_2-\\theta_a}{R_2}\n",
       "\\end{align}"
      ],
      "text/plain": [
       "<IPython.core.display.Latex object>"
      ]
     },
     "metadata": {},
     "output_type": "display_data"
    }
   ],
   "source": [
    "%%latex\n",
    "\\begin{align}\n",
    "    0 &= \\bar{q}_i - \\frac{\\bar{\\theta}_1-\\bar{\\theta}_2}{R_1}\\\\\n",
    "    0 &= \\frac{\\bar{\\theta}_1-\\bar{\\theta}_2}{R_1} - \\frac{\\bar{\\theta}_2-\\theta_a}{R_2}\n",
    "\\end{align}"
   ]
  },
  {
   "cell_type": "markdown",
   "metadata": {},
   "source": [
    "Reorganizando los términos y despejando se tiene:"
   ]
  },
  {
   "cell_type": "code",
   "execution_count": 25,
   "metadata": {},
   "outputs": [
    {
     "data": {
      "text/latex": [
       "\\begin{align}\n",
       "    \\bar{\\theta}_1 &= \\theta_a + (R_1+R_2)\\bar{q}_i\\\\\n",
       "    \\bar{\\theta}_2 &= \\theta_a + R_2\\bar{q}_i\n",
       "\\end{align}"
      ],
      "text/plain": [
       "<IPython.core.display.Latex object>"
      ]
     },
     "metadata": {},
     "output_type": "display_data"
    }
   ],
   "source": [
    "%%latex\n",
    "\\begin{align}\n",
    "    \\bar{\\theta}_1 &= \\theta_a + (R_1+R_2)\\bar{q}_i\\\\\n",
    "    \\bar{\\theta}_2 &= \\theta_a + R_2\\bar{q}_i\n",
    "\\end{align}"
   ]
  },
  {
   "cell_type": "markdown",
   "metadata": {},
   "source": [
    "- Para obtener la simulación del sistema, en primer lugar se inicializa el entorno y se cargan librerías."
   ]
  },
  {
   "cell_type": "code",
   "execution_count": 40,
   "metadata": {},
   "outputs": [],
   "source": [
    "import math\n",
    "import numpy as np\n",
    "%matplotlib inline\n",
    "import matplotlib.pyplot as plt\n",
    "import matplotlib\n",
    "matplotlib.rcParams['lines.linewidth'] = 2\n",
    "matplotlib.rcParams['font.size'] = 16\n",
    "matplotlib.rcParams['lines.markersize'] = 5\n",
    "matplotlib.rcParams['figure.figsize'] = (14, 9)\n",
    "matplotlib.rc('text', usetex=True)\n",
    "matplotlib.rc('axes', grid = False, labelsize=14, titlesize=16, ymargin=0.05)\n",
    "matplotlib.rc('legend', numpoints=1, fontsize=11)"
   ]
  },
  {
   "cell_type": "markdown",
   "metadata": {},
   "source": [
    "Se definen ahora los parámetros del sistema:"
   ]
  },
  {
   "cell_type": "code",
   "execution_count": 41,
   "metadata": {},
   "outputs": [],
   "source": [
    "C1 = 1e5\n",
    "C2 = 2e5\n",
    "R1 = 1e-3\n",
    "R2 = 5e-3\n",
    "theta_a = 300\n",
    "qbar_i = 1e3"
   ]
  },
  {
   "cell_type": "markdown",
   "metadata": {},
   "source": [
    "Ahora, se define una función de python que implemente las ecuaciones dinámicas del sistema:"
   ]
  },
  {
   "cell_type": "code",
   "execution_count": 42,
   "metadata": {},
   "outputs": [],
   "source": [
    "def dX_dt_sys1(X,t,qi):\n",
    "    theta1 = X[0]\n",
    "    theta2 = X[1]\n",
    "    theta1_dot = (1/C1)*(qi - (theta1-theta2)/R1)\n",
    "    theta2_dot = (1/C2)*((theta1-theta2)/R1 - (theta2-theta_a)/R2)\n",
    "    return np.array([theta1_dot, theta2_dot])"
   ]
  },
  {
   "cell_type": "markdown",
   "metadata": {},
   "source": [
    "Usando el método de integración de Runge-Kutta de dos etapas:"
   ]
  },
  {
   "cell_type": "code",
   "execution_count": 43,
   "metadata": {},
   "outputs": [],
   "source": [
    "tf = 10000\n",
    "N = 10000\n",
    "h = tf/N\n",
    "t = np.linspace(0,tf,N)\n",
    "Theta = np.zeros((N,2))\n",
    "Theta[0,0] = theta_a \n",
    "Theta[0,1] = theta_a\n",
    "for i in range(0,N-1):\n",
    "    k1 = dX_dt_sys1(Theta[i,:],t[i],qbar_i)\n",
    "    k2 = dX_dt_sys1(Theta[i,:]+0.5*h*k1,t[i]+0.5*h,qbar_i)\n",
    "    Theta[i+1,:] = Theta[i,:] + h*k2"
   ]
  },
  {
   "cell_type": "markdown",
   "metadata": {},
   "source": [
    "El punto de equilibrio se calcula como:"
   ]
  },
  {
   "cell_type": "code",
   "execution_count": 44,
   "metadata": {},
   "outputs": [
    {
     "name": "stdout",
     "output_type": "stream",
     "text": [
      "306.0\n",
      "305.0\n"
     ]
    }
   ],
   "source": [
    "thetabar_1 = theta_a + (R1+R2)*qbar_i\n",
    "thetabar_2 = theta_a + R2*qbar_i\n",
    "print(thetabar_1)\n",
    "print(thetabar_2)"
   ]
  },
  {
   "cell_type": "markdown",
   "metadata": {},
   "source": [
    "Ahora se grafica el resultado:"
   ]
  },
  {
   "cell_type": "code",
   "execution_count": 45,
   "metadata": {},
   "outputs": [
    {
     "data": {
      "text/plain": [
       "Text(0.5,1,'Respuesta del sistema')"
      ]
     },
     "execution_count": 45,
     "metadata": {},
     "output_type": "execute_result"
    },
    {
     "data": {
      "image/png": "[encoded data removed]",
      "text/plain": [
       "<matplotlib.figure.Figure at 0x7f7b19a1ee10>"
      ]
     },
     "metadata": {},
     "output_type": "display_data"
    }
   ],
   "source": [
    "theta1, theta2 = Theta.T\n",
    "f1 = plt.figure()\n",
    "plt.plot(t, theta1, 'r-', label=r'$\\theta_1$')\n",
    "plt.plot(t, theta2, 'b-', label=r'$\\theta_2$')\n",
    "plt.plot(t, thetabar_1*np.ones(N), 'r--', label=r'$\\bar{\\theta}_1$')\n",
    "plt.plot(t, thetabar_2*np.ones(N), 'b--', label=r'$\\bar{\\theta}_2$')\n",
    "plt.grid()\n",
    "plt.legend(loc='best', prop={'size': 18})\n",
    "plt.xlabel('Tiempo [s]')\n",
    "plt.ylabel('Temperatura [K]')\n",
    "plt.title('Respuesta del sistema')"
   ]
  },
  {
   "cell_type": "markdown",
   "metadata": {},
   "source": [
    "También es posible utilizar la función `odeint` incluida en la librería `scipy.integrate`:"
   ]
  },
  {
   "cell_type": "code",
   "execution_count": 46,
   "metadata": {},
   "outputs": [
    {
     "data": {
      "text/plain": [
       "'Integration successful.'"
      ]
     },
     "execution_count": 46,
     "metadata": {},
     "output_type": "execute_result"
    }
   ],
   "source": [
    "from scipy import integrate\n",
    "x0 = Theta[0,:]\n",
    "X, infodict = integrate.odeint(dX_dt_sys1,x0,t,args=(qbar_i,),full_output=True)\n",
    "infodict['message']"
   ]
  },
  {
   "cell_type": "markdown",
   "metadata": {},
   "source": [
    "Ahora se grafica la respuesta de la misma forma:"
   ]
  },
  {
   "cell_type": "code",
   "execution_count": 47,
   "metadata": {},
   "outputs": [
    {
     "data": {
      "text/plain": [
       "Text(0.5,1,'Respuesta del sistema')"
      ]
     },
     "execution_count": 47,
     "metadata": {},
     "output_type": "execute_result"
    },
    {
     "data": {
      "image/png": "[encoded data removed]",
      "text/plain": [
       "<matplotlib.figure.Figure at 0x7f7b0411db38>"
      ]
     },
     "metadata": {},
     "output_type": "display_data"
    }
   ],
   "source": [
    "theta1, theta2 = X.T\n",
    "f2 = plt.figure()\n",
    "plt.plot(t, theta1, 'r-', label=r'$\\theta_1$')\n",
    "plt.plot(t, theta2, 'b-', label=r'$\\theta_2$')\n",
    "plt.plot(t, thetabar_1*np.ones(N), 'r--', label=r'$\\bar{\\theta}_1$')\n",
    "plt.plot(t, thetabar_2*np.ones(N), 'b--', label=r'$\\bar{\\theta}_2$')\n",
    "plt.grid()\n",
    "plt.legend(loc='best', prop={'size': 18})\n",
    "plt.xlabel('Tiempo [s]')\n",
    "plt.ylabel('Temperatura [K]')\n",
    "plt.title('Respuesta del sistema')"
   ]
  },
  {
   "cell_type": "markdown",
   "metadata": {},
   "source": [
    "- Para simular la respuesta del sistema en éste caso, es necesario simular el sistema en cada uno de los subintervalos donde la señal $q_i$ se encuentra encendida o apagada. En la siguiente figura se muestra la señal que se desea aplicar al sistema:"
   ]
  },
  {
   "cell_type": "code",
   "execution_count": 48,
   "metadata": {},
   "outputs": [
    {
     "data": {
      "text/plain": [
       "[<matplotlib.lines.Line2D at 0x7f7b0400a4a8>]"
      ]
     },
     "execution_count": 48,
     "metadata": {},
     "output_type": "execute_result"
    },
    {
     "data": {
      "image/png": "[encoded data removed]",
      "text/plain": [
       "<matplotlib.figure.Figure at 0x7f7b04131518>"
      ]
     },
     "metadata": {},
     "output_type": "display_data"
    }
   ],
   "source": [
    "from scipy import signal\n",
    "Ton = 250 \n",
    "f = 1/(2*Ton)\n",
    "qi = qbar_i*0.5*(1+signal.square(2*np.pi*f*t))\n",
    "plt.plot(t,qi)"
   ]
  },
  {
   "cell_type": "markdown",
   "metadata": {},
   "source": [
    "En el siguiente script se realiza la simulación del sistema para cada subintervalo:"
   ]
  },
  {
   "cell_type": "code",
   "execution_count": 49,
   "metadata": {},
   "outputs": [
    {
     "name": "stdout",
     "output_type": "stream",
     "text": [
      "tint= [    0   250   500   750  1000  1250  1500  1750  2000  2250  2500  2750\n",
      "  3000  3250  3500  3750  4000  4250  4500  4750  5000  5250  5500  5750\n",
      "  6000  6250  6500  6750  7000  7250  7500  7750  8000  8250  8500  8750\n",
      "  9000  9250  9500  9750 10000]\n",
      "qin= [1000.    0. 1000.    0. 1000.    0. 1000.    0. 1000.    0. 1000.    0.\n",
      " 1000.    0. 1000.    0. 1000.    0. 1000.    0. 1000.    0. 1000.    0.\n",
      " 1000.    0. 1000.    0. 1000.    0. 1000.    0. 1000.    0. 1000.    0.\n",
      " 1000.    0. 1000.    0.]\n"
     ]
    }
   ],
   "source": [
    "from scipy import integrate\n",
    "tint = np.arange(0,tf+1,250)\n",
    "qin = np.zeros(len(tint)-1)\n",
    "qin[::2] += qbar_i\n",
    "Theta = np.zeros((N,2))\n",
    "Theta[0,0] = theta_a \n",
    "Theta[0,1] = theta_a\n",
    "x0 = Theta[0,:];\n",
    "for i in range(0,len(tint)-1):\n",
    "    tspan = np.arange(tint[i],tint[i+1],1)\n",
    "    X, infodict = integrate.odeint(dX_dt_sys1,x0,tspan,args=(qin[i],),full_output=True)\n",
    "    x0 = X[249,:]\n",
    "    Theta[tint[i]:tint[i+1],:] = X\n",
    "print('tint=',tint)\n",
    "print('qin=',qin)"
   ]
  },
  {
   "cell_type": "markdown",
   "metadata": {},
   "source": [
    "Ahora, se grafica la respuesta del sistema:"
   ]
  },
  {
   "cell_type": "code",
   "execution_count": 50,
   "metadata": {},
   "outputs": [
    {
     "data": {
      "text/plain": [
       "Text(0.5,1,'Respuesta del sistema')"
      ]
     },
     "execution_count": 50,
     "metadata": {},
     "output_type": "execute_result"
    },
    {
     "data": {
      "image/png": "[encoded data removed]",
      "text/plain": [
       "<matplotlib.figure.Figure at 0x7f7b04042518>"
      ]
     },
     "metadata": {},
     "output_type": "display_data"
    }
   ],
   "source": [
    "theta1, theta2 = Theta.T\n",
    "f3 = plt.figure()\n",
    "plt.plot(t, theta1, 'r-', label=r'$\\theta_1$')\n",
    "plt.plot(t, theta2, 'b-', label=r'$\\theta_2$')\n",
    "plt.grid()\n",
    "plt.legend(loc='best', prop={'size': 18})\n",
    "plt.xlabel('Tiempo [s]')\n",
    "plt.ylabel('Temperatura [K]')\n",
    "plt.title('Respuesta del sistema')"
   ]
  },
  {
   "cell_type": "markdown",
   "metadata": {},
   "source": [
    "---\n",
    "### Ejemplo 7:\n",
    "En la figura se muestra un recipiente lleno de líquido que se encuentra a temperatura $\\theta$. Gracias a un mezclador, dicha temperatura es uniforme dentro de todo el recipiente. Existe un flujo volumétrico entrante $\\bar{w}$ de líquido, con una temperatura $\\theta_i(t)$. Existe también un flujo volumétrico de salida $\\bar{w}$ y temperatura $\\theta_o$. Hay además una fuente de calor que introduce un flujo $q_h(t)$. El volúmen del recipiente es $V$, el líquido tiene densidad $\\rho$ y calor específico $\\sigma$.\n",
    "- Obtenga el modelo en variables de estado del sistema."
   ]
  },
  {
   "cell_type": "markdown",
   "metadata": {},
   "source": [
    "![liqexch](img/vessel.png)"
   ]
  },
  {
   "cell_type": "markdown",
   "metadata": {},
   "source": [
    "### Solución:\n",
    "La capacitancia térmica del líquido se expresa como $C = \\rho \\sigma V$. Escribiendo la ecuación que expresa el cambio de temperatura debido al flujo neto de calor se tiene:"
   ]
  },
  {
   "cell_type": "code",
   "execution_count": 51,
   "metadata": {},
   "outputs": [
    {
     "data": {
      "text/latex": [
       "\\begin{equation}\n",
       "    \\dot{\\theta}(t) = \\frac{1}{C}\\left[q_{in}(t) - q_{out}(t)\\right]\n",
       "\\end{equation}"
      ],
      "text/plain": [
       "<IPython.core.display.Latex object>"
      ]
     },
     "metadata": {},
     "output_type": "display_data"
    }
   ],
   "source": [
    "%%latex\n",
    "\\begin{equation}\n",
    "    \\dot{\\theta}(t) = \\frac{1}{C}\\left[q_{in}(t) - q_{out}(t)\\right]\n",
    "\\end{equation}"
   ]
  },
  {
   "cell_type": "markdown",
   "metadata": {},
   "source": [
    "donde"
   ]
  },
  {
   "cell_type": "code",
   "execution_count": 52,
   "metadata": {},
   "outputs": [
    {
     "data": {
      "text/latex": [
       "\\begin{align}\n",
       "    q_{in}(t) &= q_h(t) + \\bar{w}\\rho\\sigma\\theta_i(t)\\\\\n",
       "    q_{out}(t) &= \\bar{w}\\rho\\sigma\\theta + \\frac{1}{R}(\\theta-\\theta_a)\n",
       "\\end{align}"
      ],
      "text/plain": [
       "<IPython.core.display.Latex object>"
      ]
     },
     "metadata": {},
     "output_type": "display_data"
    }
   ],
   "source": [
    "%%latex\n",
    "\\begin{align}\n",
    "    q_{in}(t) &= q_h(t) + \\bar{w}\\rho\\sigma\\theta_i(t)\\\\\n",
    "    q_{out}(t) &= \\bar{w}\\rho\\sigma\\theta + \\frac{1}{R}(\\theta-\\theta_a)\n",
    "\\end{align}"
   ]
  },
  {
   "cell_type": "markdown",
   "metadata": {},
   "source": [
    "Reemplazando en la anterior ecuación y reorganizando se obtiene:"
   ]
  },
  {
   "cell_type": "code",
   "execution_count": 53,
   "metadata": {},
   "outputs": [
    {
     "data": {
      "text/latex": [
       "\\begin{equation}\n",
       "    \\dot{\\theta}(t) = -\\left(\\frac{\\bar{w}}{V} + \\frac{1}{RC}\\right)\\theta(t) + \\frac{\\bar{w}}{V}\\theta_i(t) + \\frac{1}{C}q_h(t) + \\frac{1}{RC}\\theta_a\n",
       "\\end{equation}"
      ],
      "text/plain": [
       "<IPython.core.display.Latex object>"
      ]
     },
     "metadata": {},
     "output_type": "display_data"
    }
   ],
   "source": [
    "%%latex\n",
    "\\begin{equation}\n",
    "    \\dot{\\theta}(t) = -\\left(\\frac{\\bar{w}}{V} + \\frac{1}{RC}\\right)\\theta(t) + \\frac{\\bar{w}}{V}\\theta_i(t) + \\frac{1}{C}q_h(t) + \\frac{1}{RC}\\theta_a\n",
    "\\end{equation}"
   ]
  },
  {
   "cell_type": "markdown",
   "metadata": {},
   "source": [
    "---\n",
    "## References\n",
    "- Close, C., Frederick, D., Newell, J. [Modeling and Analysis of Dynamic Systems](https://books.google.com.co/books?isbn=0471452963). 3rd Edition. Jonh Wiley & Sons, 2002."
   ]
  }
 ],
 "metadata": {
  "kernelspec": {
   "display_name": "Python 3",
   "language": "python",
   "name": "python3"
  },
  "language_info": {
   "codemirror_mode": {
    "name": "ipython",
    "version": 3
   },
   "file_extension": ".py",
   "mimetype": "text/x-python",
   "name": "python",
   "nbconvert_exporter": "python",
   "pygments_lexer": "ipython3",
   "version": "3.6.4"
  }
 },
 "nbformat": 4,
 "nbformat_minor": 2
}
